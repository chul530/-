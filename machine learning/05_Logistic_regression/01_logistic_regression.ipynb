{
 "cells": [
  {
   "cell_type": "markdown",
   "metadata": {},
   "source": [
    "# Logistic Regression"
   ]
  },
  {
   "cell_type": "markdown",
   "metadata": {},
   "source": [
    "#### 작성: 고우주 | 데이터쿱와(주)"
   ]
  },
  {
   "cell_type": "markdown",
   "metadata": {},
   "source": [
    "## 1. 기본 학습"
   ]
  },
  {
   "cell_type": "code",
   "execution_count": 1,
   "metadata": {},
   "outputs": [
    {
     "data": {
      "text/html": [
       "<div>\n",
       "<style scoped>\n",
       "    .dataframe tbody tr th:only-of-type {\n",
       "        vertical-align: middle;\n",
       "    }\n",
       "\n",
       "    .dataframe tbody tr th {\n",
       "        vertical-align: top;\n",
       "    }\n",
       "\n",
       "    .dataframe thead th {\n",
       "        text-align: right;\n",
       "    }\n",
       "</style>\n",
       "<table border=\"1\" class=\"dataframe\">\n",
       "  <thead>\n",
       "    <tr style=\"text-align: right;\">\n",
       "      <th></th>\n",
       "      <th>Survived</th>\n",
       "      <th>Pclass</th>\n",
       "      <th>Name</th>\n",
       "      <th>Sex</th>\n",
       "      <th>Age</th>\n",
       "      <th>SibSp</th>\n",
       "      <th>Parch</th>\n",
       "      <th>Ticket</th>\n",
       "      <th>Fare</th>\n",
       "      <th>Cabin</th>\n",
       "      <th>Embarked</th>\n",
       "    </tr>\n",
       "    <tr>\n",
       "      <th>PassengerId</th>\n",
       "      <th></th>\n",
       "      <th></th>\n",
       "      <th></th>\n",
       "      <th></th>\n",
       "      <th></th>\n",
       "      <th></th>\n",
       "      <th></th>\n",
       "      <th></th>\n",
       "      <th></th>\n",
       "      <th></th>\n",
       "      <th></th>\n",
       "    </tr>\n",
       "  </thead>\n",
       "  <tbody>\n",
       "    <tr>\n",
       "      <th>1</th>\n",
       "      <td>0</td>\n",
       "      <td>3</td>\n",
       "      <td>Braund, Mr. Owen Harris</td>\n",
       "      <td>male</td>\n",
       "      <td>22.0</td>\n",
       "      <td>1</td>\n",
       "      <td>0</td>\n",
       "      <td>A/5 21171</td>\n",
       "      <td>7.2500</td>\n",
       "      <td>NaN</td>\n",
       "      <td>S</td>\n",
       "    </tr>\n",
       "    <tr>\n",
       "      <th>2</th>\n",
       "      <td>1</td>\n",
       "      <td>1</td>\n",
       "      <td>Cumings, Mrs. John Bradley (Florence Briggs Th...</td>\n",
       "      <td>female</td>\n",
       "      <td>38.0</td>\n",
       "      <td>1</td>\n",
       "      <td>0</td>\n",
       "      <td>PC 17599</td>\n",
       "      <td>71.2833</td>\n",
       "      <td>C85</td>\n",
       "      <td>C</td>\n",
       "    </tr>\n",
       "    <tr>\n",
       "      <th>3</th>\n",
       "      <td>1</td>\n",
       "      <td>3</td>\n",
       "      <td>Heikkinen, Miss. Laina</td>\n",
       "      <td>female</td>\n",
       "      <td>26.0</td>\n",
       "      <td>0</td>\n",
       "      <td>0</td>\n",
       "      <td>STON/O2. 3101282</td>\n",
       "      <td>7.9250</td>\n",
       "      <td>NaN</td>\n",
       "      <td>S</td>\n",
       "    </tr>\n",
       "    <tr>\n",
       "      <th>4</th>\n",
       "      <td>1</td>\n",
       "      <td>1</td>\n",
       "      <td>Futrelle, Mrs. Jacques Heath (Lily May Peel)</td>\n",
       "      <td>female</td>\n",
       "      <td>35.0</td>\n",
       "      <td>1</td>\n",
       "      <td>0</td>\n",
       "      <td>113803</td>\n",
       "      <td>53.1000</td>\n",
       "      <td>C123</td>\n",
       "      <td>S</td>\n",
       "    </tr>\n",
       "    <tr>\n",
       "      <th>5</th>\n",
       "      <td>0</td>\n",
       "      <td>3</td>\n",
       "      <td>Allen, Mr. William Henry</td>\n",
       "      <td>male</td>\n",
       "      <td>35.0</td>\n",
       "      <td>0</td>\n",
       "      <td>0</td>\n",
       "      <td>373450</td>\n",
       "      <td>8.0500</td>\n",
       "      <td>NaN</td>\n",
       "      <td>S</td>\n",
       "    </tr>\n",
       "  </tbody>\n",
       "</table>\n",
       "</div>"
      ],
      "text/plain": [
       "             Survived  Pclass  \\\n",
       "PassengerId                     \n",
       "1                   0       3   \n",
       "2                   1       1   \n",
       "3                   1       3   \n",
       "4                   1       1   \n",
       "5                   0       3   \n",
       "\n",
       "                                                          Name     Sex   Age  \\\n",
       "PassengerId                                                                    \n",
       "1                                      Braund, Mr. Owen Harris    male  22.0   \n",
       "2            Cumings, Mrs. John Bradley (Florence Briggs Th...  female  38.0   \n",
       "3                                       Heikkinen, Miss. Laina  female  26.0   \n",
       "4                 Futrelle, Mrs. Jacques Heath (Lily May Peel)  female  35.0   \n",
       "5                                     Allen, Mr. William Henry    male  35.0   \n",
       "\n",
       "             SibSp  Parch            Ticket     Fare Cabin Embarked  \n",
       "PassengerId                                                          \n",
       "1                1      0         A/5 21171   7.2500   NaN        S  \n",
       "2                1      0          PC 17599  71.2833   C85        C  \n",
       "3                0      0  STON/O2. 3101282   7.9250   NaN        S  \n",
       "4                1      0            113803  53.1000  C123        S  \n",
       "5                0      0            373450   8.0500   NaN        S  "
      ]
     },
     "execution_count": 1,
     "metadata": {},
     "output_type": "execute_result"
    }
   ],
   "source": [
    "import pandas as pd\n",
    "import numpy as np\n",
    "\n",
    "path = 'data/titanic.csv'\n",
    "titanic = pd.read_csv(path, index_col='PassengerId')\n",
    "titanic.head()"
   ]
  },
  {
   "cell_type": "code",
   "execution_count": 3,
   "metadata": {},
   "outputs": [],
   "source": [
    "feature_cols = ['Pclass', 'Parch']\n",
    "X = titanic[feature_cols]\n",
    "y = titanic.Survived\n",
    "\n",
    "from sklearn.model_selection import train_test_split\n",
    "X_train, X_test, y_train, y_test = train_test_split(X, y, random_state=123)"
   ]
  },
  {
   "cell_type": "markdown",
   "metadata": {},
   "source": [
    "- class sklearn.linear_model.LogisticRegression(penalty=’l2’, dual=False, tol=0.0001, C=1.0, fit_intercept=True, intercept_scaling=1, class_weight=None, random_state=None, solver=’warn’, max_iter=100, multi_class=’warn’, verbose=0, warm_start=False, n_jobs=None)[source]¶"
   ]
  },
  {
   "cell_type": "code",
   "execution_count": 4,
   "metadata": {},
   "outputs": [
    {
     "name": "stdout",
     "output_type": "stream",
     "text": [
      "[('Pclass', -0.8224727977190706), ('Parch', 0.2716898942366452)]\n"
     ]
    }
   ],
   "source": [
    "from sklearn.linear_model import LogisticRegression\n",
    "\n",
    "logreg = LogisticRegression(C=1000)\n",
    "logreg.fit(X_train, y_train)\n",
    "print(list(zip(feature_cols, logreg.coef_[0])))"
   ]
  },
  {
   "cell_type": "code",
   "execution_count": 5,
   "metadata": {},
   "outputs": [
    {
     "name": "stdout",
     "output_type": "stream",
     "text": [
      "[[-0.8224728   0.27168989]]\n",
      "[-0.8224728   0.27168989]\n"
     ]
    }
   ],
   "source": [
    "print(logreg.coef_)\n",
    "print(logreg.coef_[0])"
   ]
  },
  {
   "cell_type": "code",
   "execution_count": 6,
   "metadata": {},
   "outputs": [],
   "source": [
    "# class predictions (not predicted probabilities)\n",
    "y_pred_class = logreg.predict(X_test)"
   ]
  },
  {
   "cell_type": "code",
   "execution_count": 7,
   "metadata": {},
   "outputs": [
    {
     "data": {
      "text/plain": [
       "array([0, 0, 1, 1, 0, 0, 0, 0, 0, 0, 0, 0, 1, 0, 1, 0, 1, 1, 0, 0, 0, 1,\n",
       "       0, 0, 0, 0, 0, 1, 0, 0, 0, 0, 0, 0, 0, 0, 0, 0, 0, 1, 1, 0, 0, 0,\n",
       "       0, 0, 1, 1, 0, 0, 0, 0, 0, 0, 0, 0, 0, 0, 1, 0, 1, 1, 1, 1, 0, 0,\n",
       "       0, 0, 1, 0, 1, 0, 1, 1, 0, 0, 0, 0, 1, 1, 0, 0, 0, 0, 0, 0, 0, 0,\n",
       "       1, 0, 0, 0, 0, 0, 1, 0, 1, 1, 0, 0, 0, 1, 1, 0, 0, 1, 0, 0, 0, 0,\n",
       "       1, 1, 1, 0, 0, 0, 1, 0, 0, 1, 0, 0, 1, 0, 0, 0, 1, 1, 0, 0, 1, 0,\n",
       "       0, 0, 1, 0, 1, 0, 0, 0, 0, 1, 0, 0, 0, 0, 1, 0, 0, 1, 1, 0, 0, 0,\n",
       "       1, 0, 1, 0, 0, 1, 0, 1, 1, 1, 1, 1, 1, 0, 0, 0, 0, 1, 0, 0, 0, 0,\n",
       "       1, 0, 0, 1, 0, 0, 0, 1, 0, 1, 0, 1, 0, 0, 0, 0, 0, 0, 0, 1, 0, 0,\n",
       "       0, 0, 1, 0, 1, 1, 1, 0, 0, 0, 1, 0, 0, 0, 0, 0, 0, 0, 0, 0, 0, 0,\n",
       "       0, 1, 0], dtype=int64)"
      ]
     },
     "execution_count": 7,
     "metadata": {},
     "output_type": "execute_result"
    }
   ],
   "source": [
    "y_pred_class"
   ]
  },
  {
   "cell_type": "code",
   "execution_count": 8,
   "metadata": {},
   "outputs": [],
   "source": [
    "y_pred_prob = logreg.predict_proba(X_test)"
   ]
  },
  {
   "cell_type": "code",
   "execution_count": 9,
   "metadata": {},
   "outputs": [
    {
     "data": {
      "text/plain": [
       "array([[0.70867051, 0.29132949],\n",
       "       [0.76144639, 0.23855361],\n",
       "       [0.38123256, 0.61876744],\n",
       "       [0.38123256, 0.61876744],\n",
       "       [0.76144639, 0.23855361],\n",
       "       [0.58374177, 0.41625823],\n",
       "       [0.58374177, 0.41625823],\n",
       "       [0.58374177, 0.41625823],\n",
       "       [0.70867051, 0.29132949],\n",
       "       [0.51845813, 0.48154187],\n",
       "       [0.64959191, 0.35040809],\n",
       "       [0.76144639, 0.23855361],\n",
       "       [0.31951321, 0.68048679],\n",
       "       [0.76144639, 0.23855361],\n",
       "       [0.38123256, 0.61876744],\n",
       "       [0.70867051, 0.29132949],\n",
       "       [0.38123256, 0.61876744],\n",
       "       [0.38123256, 0.61876744],\n",
       "       [0.51845813, 0.48154187],\n",
       "       [0.58374177, 0.41625823],\n",
       "       [0.64959191, 0.35040809],\n",
       "       [0.4488726 , 0.5511274 ],\n",
       "       [0.58374177, 0.41625823],\n",
       "       [0.70867051, 0.29132949],\n",
       "       [0.70867051, 0.29132949],\n",
       "       [0.76144639, 0.23855361],\n",
       "       [0.76144639, 0.23855361],\n",
       "       [0.38123256, 0.61876744],\n",
       "       [0.76144639, 0.23855361],\n",
       "       [0.76144639, 0.23855361],\n",
       "       [0.64959191, 0.35040809],\n",
       "       [0.51660963, 0.48339037],\n",
       "       [0.58374177, 0.41625823],\n",
       "       [0.76144639, 0.23855361],\n",
       "       [0.51660963, 0.48339037],\n",
       "       [0.76144639, 0.23855361],\n",
       "       [0.76144639, 0.23855361],\n",
       "       [0.76144639, 0.23855361],\n",
       "       [0.58374177, 0.41625823],\n",
       "       [0.38123256, 0.61876744],\n",
       "       [0.26353031, 0.73646969],\n",
       "       [0.76144639, 0.23855361],\n",
       "       [0.76144639, 0.23855361],\n",
       "       [0.76144639, 0.23855361],\n",
       "       [0.76144639, 0.23855361],\n",
       "       [0.58374177, 0.41625823],\n",
       "       [0.38123256, 0.61876744],\n",
       "       [0.38123256, 0.61876744],\n",
       "       [0.76144639, 0.23855361],\n",
       "       [0.58374177, 0.41625823],\n",
       "       [0.76144639, 0.23855361],\n",
       "       [0.64959191, 0.35040809],\n",
       "       [0.76144639, 0.23855361],\n",
       "       [0.76144639, 0.23855361],\n",
       "       [0.58374177, 0.41625823],\n",
       "       [0.76144639, 0.23855361],\n",
       "       [0.70867051, 0.29132949],\n",
       "       [0.76144639, 0.23855361],\n",
       "       [0.38123256, 0.61876744],\n",
       "       [0.64959191, 0.35040809],\n",
       "       [0.38123256, 0.61876744],\n",
       "       [0.38123256, 0.61876744],\n",
       "       [0.26353031, 0.73646969],\n",
       "       [0.38123256, 0.61876744],\n",
       "       [0.76144639, 0.23855361],\n",
       "       [0.70867051, 0.29132949],\n",
       "       [0.58374177, 0.41625823],\n",
       "       [0.58374177, 0.41625823],\n",
       "       [0.38123256, 0.61876744],\n",
       "       [0.58374177, 0.41625823],\n",
       "       [0.38123256, 0.61876744],\n",
       "       [0.76144639, 0.23855361],\n",
       "       [0.38123256, 0.61876744],\n",
       "       [0.31951321, 0.68048679],\n",
       "       [0.76144639, 0.23855361],\n",
       "       [0.76144639, 0.23855361],\n",
       "       [0.76144639, 0.23855361],\n",
       "       [0.76144639, 0.23855361],\n",
       "       [0.38123256, 0.61876744],\n",
       "       [0.38123256, 0.61876744],\n",
       "       [0.76144639, 0.23855361],\n",
       "       [0.76144639, 0.23855361],\n",
       "       [0.64959191, 0.35040809],\n",
       "       [0.76144639, 0.23855361],\n",
       "       [0.76144639, 0.23855361],\n",
       "       [0.58374177, 0.41625823],\n",
       "       [0.64959191, 0.35040809],\n",
       "       [0.76144639, 0.23855361],\n",
       "       [0.38123256, 0.61876744],\n",
       "       [0.76144639, 0.23855361],\n",
       "       [0.76144639, 0.23855361],\n",
       "       [0.58374177, 0.41625823],\n",
       "       [0.58374177, 0.41625823],\n",
       "       [0.64959191, 0.35040809],\n",
       "       [0.31951321, 0.68048679],\n",
       "       [0.76144639, 0.23855361],\n",
       "       [0.38123256, 0.61876744],\n",
       "       [0.38123256, 0.61876744],\n",
       "       [0.76144639, 0.23855361],\n",
       "       [0.51660963, 0.48339037],\n",
       "       [0.70867051, 0.29132949],\n",
       "       [0.26353031, 0.73646969],\n",
       "       [0.38123256, 0.61876744],\n",
       "       [0.76144639, 0.23855361],\n",
       "       [0.76144639, 0.23855361],\n",
       "       [0.38123256, 0.61876744],\n",
       "       [0.76144639, 0.23855361],\n",
       "       [0.76144639, 0.23855361],\n",
       "       [0.76144639, 0.23855361],\n",
       "       [0.58374177, 0.41625823],\n",
       "       [0.4488726 , 0.5511274 ],\n",
       "       [0.38123256, 0.61876744],\n",
       "       [0.26353031, 0.73646969],\n",
       "       [0.76144639, 0.23855361],\n",
       "       [0.76144639, 0.23855361],\n",
       "       [0.58374177, 0.41625823],\n",
       "       [0.38123256, 0.61876744],\n",
       "       [0.58374177, 0.41625823],\n",
       "       [0.76144639, 0.23855361],\n",
       "       [0.38123256, 0.61876744],\n",
       "       [0.76144639, 0.23855361],\n",
       "       [0.76144639, 0.23855361],\n",
       "       [0.38123256, 0.61876744],\n",
       "       [0.76144639, 0.23855361],\n",
       "       [0.58374177, 0.41625823],\n",
       "       [0.58374177, 0.41625823],\n",
       "       [0.38473136, 0.61526864],\n",
       "       [0.38123256, 0.61876744],\n",
       "       [0.76144639, 0.23855361],\n",
       "       [0.76144639, 0.23855361],\n",
       "       [0.31951321, 0.68048679],\n",
       "       [0.76144639, 0.23855361],\n",
       "       [0.76144639, 0.23855361],\n",
       "       [0.58374177, 0.41625823],\n",
       "       [0.38123256, 0.61876744],\n",
       "       [0.76144639, 0.23855361],\n",
       "       [0.31951321, 0.68048679],\n",
       "       [0.70867051, 0.29132949],\n",
       "       [0.76144639, 0.23855361],\n",
       "       [0.51660963, 0.48339037],\n",
       "       [0.76144639, 0.23855361],\n",
       "       [0.38123256, 0.61876744],\n",
       "       [0.70867051, 0.29132949],\n",
       "       [0.51660963, 0.48339037],\n",
       "       [0.70867051, 0.29132949],\n",
       "       [0.76144639, 0.23855361],\n",
       "       [0.45070471, 0.54929529],\n",
       "       [0.76144639, 0.23855361],\n",
       "       [0.76144639, 0.23855361],\n",
       "       [0.38123256, 0.61876744],\n",
       "       [0.38123256, 0.61876744],\n",
       "       [0.64959191, 0.35040809],\n",
       "       [0.76144639, 0.23855361],\n",
       "       [0.76144639, 0.23855361],\n",
       "       [0.38123256, 0.61876744],\n",
       "       [0.76144639, 0.23855361],\n",
       "       [0.38123256, 0.61876744],\n",
       "       [0.76144639, 0.23855361],\n",
       "       [0.58374177, 0.41625823],\n",
       "       [0.38123256, 0.61876744],\n",
       "       [0.58374177, 0.41625823],\n",
       "       [0.38123256, 0.61876744],\n",
       "       [0.38123256, 0.61876744],\n",
       "       [0.26353031, 0.73646969],\n",
       "       [0.38123256, 0.61876744],\n",
       "       [0.31951321, 0.68048679],\n",
       "       [0.38298044, 0.61701956],\n",
       "       [0.76144639, 0.23855361],\n",
       "       [0.76144639, 0.23855361],\n",
       "       [0.70867051, 0.29132949],\n",
       "       [0.76144639, 0.23855361],\n",
       "       [0.38123256, 0.61876744],\n",
       "       [0.70867051, 0.29132949],\n",
       "       [0.51660963, 0.48339037],\n",
       "       [0.76144639, 0.23855361],\n",
       "       [0.76144639, 0.23855361],\n",
       "       [0.4488726 , 0.5511274 ],\n",
       "       [0.76144639, 0.23855361],\n",
       "       [0.58374177, 0.41625823],\n",
       "       [0.31951321, 0.68048679],\n",
       "       [0.76144639, 0.23855361],\n",
       "       [0.76144639, 0.23855361],\n",
       "       [0.76144639, 0.23855361],\n",
       "       [0.31951321, 0.68048679],\n",
       "       [0.58374177, 0.41625823],\n",
       "       [0.4488726 , 0.5511274 ],\n",
       "       [0.58374177, 0.41625823],\n",
       "       [0.38123256, 0.61876744],\n",
       "       [0.76144639, 0.23855361],\n",
       "       [0.76144639, 0.23855361],\n",
       "       [0.58374177, 0.41625823],\n",
       "       [0.76144639, 0.23855361],\n",
       "       [0.51660963, 0.48339037],\n",
       "       [0.58374177, 0.41625823],\n",
       "       [0.76144639, 0.23855361],\n",
       "       [0.31951321, 0.68048679],\n",
       "       [0.76144639, 0.23855361],\n",
       "       [0.70867051, 0.29132949],\n",
       "       [0.58374177, 0.41625823],\n",
       "       [0.76144639, 0.23855361],\n",
       "       [0.31951321, 0.68048679],\n",
       "       [0.76144639, 0.23855361],\n",
       "       [0.38123256, 0.61876744],\n",
       "       [0.38123256, 0.61876744],\n",
       "       [0.38123256, 0.61876744],\n",
       "       [0.76144639, 0.23855361],\n",
       "       [0.76144639, 0.23855361],\n",
       "       [0.51660963, 0.48339037],\n",
       "       [0.38123256, 0.61876744],\n",
       "       [0.76144639, 0.23855361],\n",
       "       [0.76144639, 0.23855361],\n",
       "       [0.58374177, 0.41625823],\n",
       "       [0.70867051, 0.29132949],\n",
       "       [0.76144639, 0.23855361],\n",
       "       [0.76144639, 0.23855361],\n",
       "       [0.76144639, 0.23855361],\n",
       "       [0.58374177, 0.41625823],\n",
       "       [0.76144639, 0.23855361],\n",
       "       [0.70867051, 0.29132949],\n",
       "       [0.76144639, 0.23855361],\n",
       "       [0.76144639, 0.23855361],\n",
       "       [0.31951321, 0.68048679],\n",
       "       [0.76144639, 0.23855361]])"
      ]
     },
     "execution_count": 9,
     "metadata": {},
     "output_type": "execute_result"
    }
   ],
   "source": [
    "y_pred_prob"
   ]
  },
  {
   "cell_type": "code",
   "execution_count": 11,
   "metadata": {
    "scrolled": true
   },
   "outputs": [
    {
     "name": "stdout",
     "output_type": "stream",
     "text": [
      "0.6995515695067265\n"
     ]
    }
   ],
   "source": [
    "# calculate classification accuracy\n",
    "from sklearn import metrics\n",
    "\n",
    "print(metrics.accuracy_score(y_test, y_pred_class))"
   ]
  },
  {
   "cell_type": "markdown",
   "metadata": {},
   "source": [
    "## 2. Evaluation Model"
   ]
  },
  {
   "cell_type": "markdown",
   "metadata": {},
   "source": [
    "### Confusion matrix 사용하기"
   ]
  },
  {
   "cell_type": "code",
   "execution_count": 12,
   "metadata": {},
   "outputs": [
    {
     "name": "stdout",
     "output_type": "stream",
     "text": [
      "[[114  25]\n",
      " [ 42  42]]\n"
     ]
    }
   ],
   "source": [
    "# print confusion matrix\n",
    "print(metrics.confusion_matrix(y_test, y_pred_class))"
   ]
  },
  {
   "cell_type": "code",
   "execution_count": 13,
   "metadata": {},
   "outputs": [],
   "source": [
    "# save confusion matrix and slice into four pieces\n",
    "confusion = metrics.confusion_matrix(y_test, y_pred_class)\n",
    "TP = confusion[1][1]\n",
    "TN = confusion[0][0]\n",
    "FP = confusion[0][1]\n",
    "FN = confusion[1][0]"
   ]
  },
  {
   "cell_type": "code",
   "execution_count": 14,
   "metadata": {},
   "outputs": [
    {
     "name": "stdout",
     "output_type": "stream",
     "text": [
      "True Positives: 42\n",
      "True Negatives: 114\n",
      "False Positives: 25\n",
      "False Negatives: 42\n"
     ]
    }
   ],
   "source": [
    "print('True Positives:', TP)\n",
    "print('True Negatives:', TN)\n",
    "print('False Positives:', FP)\n",
    "print('False Negatives:', FN)"
   ]
  },
  {
   "cell_type": "code",
   "execution_count": 20,
   "metadata": {},
   "outputs": [
    {
     "name": "stdout",
     "output_type": "stream",
     "text": [
      "Sensitivity: 0.5\n"
     ]
    }
   ],
   "source": [
    "# calculate the sensitivity\n",
    "print('Sensitivity:', TP / (TP + FN))"
   ]
  },
  {
   "cell_type": "code",
   "execution_count": 21,
   "metadata": {},
   "outputs": [
    {
     "name": "stdout",
     "output_type": "stream",
     "text": [
      "Specificity: 0.8201438848920863\n"
     ]
    }
   ],
   "source": [
    "# calculate the specificity\n",
    "print('Specificity:', TN / (TN + FP))"
   ]
  },
  {
   "cell_type": "code",
   "execution_count": 22,
   "metadata": {},
   "outputs": [
    {
     "name": "stdout",
     "output_type": "stream",
     "text": [
      "0.5562913907284769\n"
     ]
    }
   ],
   "source": [
    "print(metrics.f1_score(y_test, y_pred_class))"
   ]
  },
  {
   "cell_type": "code",
   "execution_count": 23,
   "metadata": {},
   "outputs": [
    {
     "name": "stdout",
     "output_type": "stream",
     "text": [
      "              precision    recall  f1-score   support\n",
      "\n",
      "           0       0.73      0.82      0.77       139\n",
      "           1       0.63      0.50      0.56        84\n",
      "\n",
      "    accuracy                           0.70       223\n",
      "   macro avg       0.68      0.66      0.66       223\n",
      "weighted avg       0.69      0.70      0.69       223\n",
      "\n"
     ]
    }
   ],
   "source": [
    "print(metrics.classification_report(y_test, y_pred_class))"
   ]
  },
  {
   "cell_type": "markdown",
   "metadata": {},
   "source": [
    "## 3. Threshold(임계값) 사용?\n",
    "- y_pred_prob > 0.3 이면 y_pred_class = 1로 임계치 설정"
   ]
  },
  {
   "cell_type": "code",
   "execution_count": 24,
   "metadata": {},
   "outputs": [
    {
     "name": "stdout",
     "output_type": "stream",
     "text": [
      "[[0.70867051 0.29132949]\n",
      " [0.76144639 0.23855361]\n",
      " [0.38123256 0.61876744]\n",
      " [0.38123256 0.61876744]\n",
      " [0.76144639 0.23855361]\n",
      " [0.58374177 0.41625823]\n",
      " [0.58374177 0.41625823]\n",
      " [0.58374177 0.41625823]\n",
      " [0.70867051 0.29132949]\n",
      " [0.51845813 0.48154187]\n",
      " [0.64959191 0.35040809]\n",
      " [0.76144639 0.23855361]\n",
      " [0.31951321 0.68048679]\n",
      " [0.76144639 0.23855361]\n",
      " [0.38123256 0.61876744]\n",
      " [0.70867051 0.29132949]\n",
      " [0.38123256 0.61876744]\n",
      " [0.38123256 0.61876744]\n",
      " [0.51845813 0.48154187]\n",
      " [0.58374177 0.41625823]\n",
      " [0.64959191 0.35040809]\n",
      " [0.4488726  0.5511274 ]\n",
      " [0.58374177 0.41625823]\n",
      " [0.70867051 0.29132949]\n",
      " [0.70867051 0.29132949]\n",
      " [0.76144639 0.23855361]\n",
      " [0.76144639 0.23855361]\n",
      " [0.38123256 0.61876744]\n",
      " [0.76144639 0.23855361]\n",
      " [0.76144639 0.23855361]\n",
      " [0.64959191 0.35040809]\n",
      " [0.51660963 0.48339037]\n",
      " [0.58374177 0.41625823]\n",
      " [0.76144639 0.23855361]\n",
      " [0.51660963 0.48339037]\n",
      " [0.76144639 0.23855361]\n",
      " [0.76144639 0.23855361]\n",
      " [0.76144639 0.23855361]\n",
      " [0.58374177 0.41625823]\n",
      " [0.38123256 0.61876744]\n",
      " [0.26353031 0.73646969]\n",
      " [0.76144639 0.23855361]\n",
      " [0.76144639 0.23855361]\n",
      " [0.76144639 0.23855361]\n",
      " [0.76144639 0.23855361]\n",
      " [0.58374177 0.41625823]\n",
      " [0.38123256 0.61876744]\n",
      " [0.38123256 0.61876744]\n",
      " [0.76144639 0.23855361]\n",
      " [0.58374177 0.41625823]\n",
      " [0.76144639 0.23855361]\n",
      " [0.64959191 0.35040809]\n",
      " [0.76144639 0.23855361]\n",
      " [0.76144639 0.23855361]\n",
      " [0.58374177 0.41625823]\n",
      " [0.76144639 0.23855361]\n",
      " [0.70867051 0.29132949]\n",
      " [0.76144639 0.23855361]\n",
      " [0.38123256 0.61876744]\n",
      " [0.64959191 0.35040809]\n",
      " [0.38123256 0.61876744]\n",
      " [0.38123256 0.61876744]\n",
      " [0.26353031 0.73646969]\n",
      " [0.38123256 0.61876744]\n",
      " [0.76144639 0.23855361]\n",
      " [0.70867051 0.29132949]\n",
      " [0.58374177 0.41625823]\n",
      " [0.58374177 0.41625823]\n",
      " [0.38123256 0.61876744]\n",
      " [0.58374177 0.41625823]\n",
      " [0.38123256 0.61876744]\n",
      " [0.76144639 0.23855361]\n",
      " [0.38123256 0.61876744]\n",
      " [0.31951321 0.68048679]\n",
      " [0.76144639 0.23855361]\n",
      " [0.76144639 0.23855361]\n",
      " [0.76144639 0.23855361]\n",
      " [0.76144639 0.23855361]\n",
      " [0.38123256 0.61876744]\n",
      " [0.38123256 0.61876744]\n",
      " [0.76144639 0.23855361]\n",
      " [0.76144639 0.23855361]\n",
      " [0.64959191 0.35040809]\n",
      " [0.76144639 0.23855361]\n",
      " [0.76144639 0.23855361]\n",
      " [0.58374177 0.41625823]\n",
      " [0.64959191 0.35040809]\n",
      " [0.76144639 0.23855361]\n",
      " [0.38123256 0.61876744]\n",
      " [0.76144639 0.23855361]\n",
      " [0.76144639 0.23855361]\n",
      " [0.58374177 0.41625823]\n",
      " [0.58374177 0.41625823]\n",
      " [0.64959191 0.35040809]\n",
      " [0.31951321 0.68048679]\n",
      " [0.76144639 0.23855361]\n",
      " [0.38123256 0.61876744]\n",
      " [0.38123256 0.61876744]\n",
      " [0.76144639 0.23855361]\n",
      " [0.51660963 0.48339037]\n",
      " [0.70867051 0.29132949]\n",
      " [0.26353031 0.73646969]\n",
      " [0.38123256 0.61876744]\n",
      " [0.76144639 0.23855361]\n",
      " [0.76144639 0.23855361]\n",
      " [0.38123256 0.61876744]\n",
      " [0.76144639 0.23855361]\n",
      " [0.76144639 0.23855361]\n",
      " [0.76144639 0.23855361]\n",
      " [0.58374177 0.41625823]\n",
      " [0.4488726  0.5511274 ]\n",
      " [0.38123256 0.61876744]\n",
      " [0.26353031 0.73646969]\n",
      " [0.76144639 0.23855361]\n",
      " [0.76144639 0.23855361]\n",
      " [0.58374177 0.41625823]\n",
      " [0.38123256 0.61876744]\n",
      " [0.58374177 0.41625823]\n",
      " [0.76144639 0.23855361]\n",
      " [0.38123256 0.61876744]\n",
      " [0.76144639 0.23855361]\n",
      " [0.76144639 0.23855361]\n",
      " [0.38123256 0.61876744]\n",
      " [0.76144639 0.23855361]\n",
      " [0.58374177 0.41625823]\n",
      " [0.58374177 0.41625823]\n",
      " [0.38473136 0.61526864]\n",
      " [0.38123256 0.61876744]\n",
      " [0.76144639 0.23855361]\n",
      " [0.76144639 0.23855361]\n",
      " [0.31951321 0.68048679]\n",
      " [0.76144639 0.23855361]\n",
      " [0.76144639 0.23855361]\n",
      " [0.58374177 0.41625823]\n",
      " [0.38123256 0.61876744]\n",
      " [0.76144639 0.23855361]\n",
      " [0.31951321 0.68048679]\n",
      " [0.70867051 0.29132949]\n",
      " [0.76144639 0.23855361]\n",
      " [0.51660963 0.48339037]\n",
      " [0.76144639 0.23855361]\n",
      " [0.38123256 0.61876744]\n",
      " [0.70867051 0.29132949]\n",
      " [0.51660963 0.48339037]\n",
      " [0.70867051 0.29132949]\n",
      " [0.76144639 0.23855361]\n",
      " [0.45070471 0.54929529]\n",
      " [0.76144639 0.23855361]\n",
      " [0.76144639 0.23855361]\n",
      " [0.38123256 0.61876744]\n",
      " [0.38123256 0.61876744]\n",
      " [0.64959191 0.35040809]\n",
      " [0.76144639 0.23855361]\n",
      " [0.76144639 0.23855361]\n",
      " [0.38123256 0.61876744]\n",
      " [0.76144639 0.23855361]\n",
      " [0.38123256 0.61876744]\n",
      " [0.76144639 0.23855361]\n",
      " [0.58374177 0.41625823]\n",
      " [0.38123256 0.61876744]\n",
      " [0.58374177 0.41625823]\n",
      " [0.38123256 0.61876744]\n",
      " [0.38123256 0.61876744]\n",
      " [0.26353031 0.73646969]\n",
      " [0.38123256 0.61876744]\n",
      " [0.31951321 0.68048679]\n",
      " [0.38298044 0.61701956]\n",
      " [0.76144639 0.23855361]\n",
      " [0.76144639 0.23855361]\n",
      " [0.70867051 0.29132949]\n",
      " [0.76144639 0.23855361]\n",
      " [0.38123256 0.61876744]\n",
      " [0.70867051 0.29132949]\n",
      " [0.51660963 0.48339037]\n",
      " [0.76144639 0.23855361]\n",
      " [0.76144639 0.23855361]\n",
      " [0.4488726  0.5511274 ]\n",
      " [0.76144639 0.23855361]\n",
      " [0.58374177 0.41625823]\n",
      " [0.31951321 0.68048679]\n",
      " [0.76144639 0.23855361]\n",
      " [0.76144639 0.23855361]\n",
      " [0.76144639 0.23855361]\n",
      " [0.31951321 0.68048679]\n",
      " [0.58374177 0.41625823]\n",
      " [0.4488726  0.5511274 ]\n",
      " [0.58374177 0.41625823]\n",
      " [0.38123256 0.61876744]\n",
      " [0.76144639 0.23855361]\n",
      " [0.76144639 0.23855361]\n",
      " [0.58374177 0.41625823]\n",
      " [0.76144639 0.23855361]\n",
      " [0.51660963 0.48339037]\n",
      " [0.58374177 0.41625823]\n",
      " [0.76144639 0.23855361]\n",
      " [0.31951321 0.68048679]\n",
      " [0.76144639 0.23855361]\n",
      " [0.70867051 0.29132949]\n",
      " [0.58374177 0.41625823]\n",
      " [0.76144639 0.23855361]\n",
      " [0.31951321 0.68048679]\n",
      " [0.76144639 0.23855361]\n",
      " [0.38123256 0.61876744]\n",
      " [0.38123256 0.61876744]\n",
      " [0.38123256 0.61876744]\n",
      " [0.76144639 0.23855361]\n",
      " [0.76144639 0.23855361]\n",
      " [0.51660963 0.48339037]\n",
      " [0.38123256 0.61876744]\n",
      " [0.76144639 0.23855361]\n",
      " [0.76144639 0.23855361]\n",
      " [0.58374177 0.41625823]\n",
      " [0.70867051 0.29132949]\n",
      " [0.76144639 0.23855361]\n",
      " [0.76144639 0.23855361]\n",
      " [0.76144639 0.23855361]\n",
      " [0.58374177 0.41625823]\n",
      " [0.76144639 0.23855361]\n",
      " [0.70867051 0.29132949]\n",
      " [0.76144639 0.23855361]\n",
      " [0.76144639 0.23855361]\n",
      " [0.31951321 0.68048679]\n",
      " [0.76144639 0.23855361]]\n"
     ]
    }
   ],
   "source": [
    "test = logreg.predict_proba(X_test)\n",
    "print(test)"
   ]
  },
  {
   "cell_type": "code",
   "execution_count": 25,
   "metadata": {},
   "outputs": [],
   "source": [
    "# store the predicted probabilities\n",
    "y_pred_prob = logreg.predict_proba(X_test)[:, 1]"
   ]
  },
  {
   "cell_type": "code",
   "execution_count": 26,
   "metadata": {},
   "outputs": [
    {
     "data": {
      "text/plain": [
       "Text(0, 0.5, 'Frequency')"
      ]
     },
     "execution_count": 26,
     "metadata": {},
     "output_type": "execute_result"
    },
    {
     "data": {
      "image/png": "[encoded data removed]",
      "text/plain": [
       "<Figure size 432x288 with 1 Axes>"
      ]
     },
     "metadata": {
      "needs_background": "light"
     },
     "output_type": "display_data"
    }
   ],
   "source": [
    "# histogram of predicted probabilities\n",
    "import matplotlib.pyplot as plt\n",
    "%matplotlib inline\n",
    "\n",
    "plt.hist(y_pred_prob)\n",
    "plt.xlim(0, 1)\n",
    "plt.xlabel('Predicted probability of survival')\n",
    "plt.ylabel('Frequency')"
   ]
  },
  {
   "cell_type": "code",
   "execution_count": 27,
   "metadata": {},
   "outputs": [],
   "source": [
    "# increase sensitivity by lowering the threshold for predicting survival\n",
    "y_pred_class_new = np.where(y_pred_prob >= 0.3, 1, 0) # cut-off value"
   ]
  },
  {
   "cell_type": "code",
   "execution_count": 28,
   "metadata": {},
   "outputs": [
    {
     "data": {
      "text/plain": [
       "array([0, 0, 1, 1, 0, 1, 1, 1, 0, 1, 1, 0, 1, 0, 1, 0, 1, 1, 1, 1, 1, 1,\n",
       "       1, 0, 0, 0, 0, 1, 0, 0, 1, 1, 1, 0, 1, 0, 0, 0, 1, 1, 1, 0, 0, 0,\n",
       "       0, 1, 1, 1, 0, 1, 0, 1, 0, 0, 1, 0, 0, 0, 1, 1, 1, 1, 1, 1, 0, 0,\n",
       "       1, 1, 1, 1, 1, 0, 1, 1, 0, 0, 0, 0, 1, 1, 0, 0, 1, 0, 0, 1, 1, 0,\n",
       "       1, 0, 0, 1, 1, 1, 1, 0, 1, 1, 0, 1, 0, 1, 1, 0, 0, 1, 0, 0, 0, 1,\n",
       "       1, 1, 1, 0, 0, 1, 1, 1, 0, 1, 0, 0, 1, 0, 1, 1, 1, 1, 0, 0, 1, 0,\n",
       "       0, 1, 1, 0, 1, 0, 0, 1, 0, 1, 0, 1, 0, 0, 1, 0, 0, 1, 1, 1, 0, 0,\n",
       "       1, 0, 1, 0, 1, 1, 1, 1, 1, 1, 1, 1, 1, 0, 0, 0, 0, 1, 0, 1, 0, 0,\n",
       "       1, 0, 1, 1, 0, 0, 0, 1, 1, 1, 1, 1, 0, 0, 1, 0, 1, 1, 0, 1, 0, 0,\n",
       "       1, 0, 1, 0, 1, 1, 1, 0, 0, 1, 1, 0, 0, 1, 0, 0, 0, 0, 1, 0, 0, 0,\n",
       "       0, 1, 0])"
      ]
     },
     "execution_count": 28,
     "metadata": {},
     "output_type": "execute_result"
    }
   ],
   "source": [
    "y_pred_class_new"
   ]
  },
  {
   "cell_type": "code",
   "execution_count": 29,
   "metadata": {},
   "outputs": [
    {
     "name": "stdout",
     "output_type": "stream",
     "text": [
      "[[114  25]\n",
      " [ 42  42]]\n"
     ]
    }
   ],
   "source": [
    "# old confusion matrix\n",
    "print(confusion)"
   ]
  },
  {
   "cell_type": "code",
   "execution_count": 30,
   "metadata": {},
   "outputs": [
    {
     "name": "stdout",
     "output_type": "stream",
     "text": [
      "[[84 55]\n",
      " [21 63]]\n"
     ]
    }
   ],
   "source": [
    "confusion_new = metrics.confusion_matrix(y_test, y_pred_class_new)\n",
    "print(confusion_new)"
   ]
  },
  {
   "cell_type": "code",
   "execution_count": 31,
   "metadata": {},
   "outputs": [],
   "source": [
    "TP = confusion_new[1][1]\n",
    "TN = confusion_new[0][0]\n",
    "FP = confusion_new[0][1]\n",
    "FN = confusion_new[1][0]"
   ]
  },
  {
   "cell_type": "code",
   "execution_count": 32,
   "metadata": {},
   "outputs": [
    {
     "name": "stdout",
     "output_type": "stream",
     "text": [
      "Sensitivity: 0.75\n"
     ]
    }
   ],
   "source": [
    "# new sensitivity (higher than before)\n",
    "print('Sensitivity:', TP / float(TP + FN))"
   ]
  },
  {
   "cell_type": "code",
   "execution_count": 33,
   "metadata": {
    "scrolled": true
   },
   "outputs": [
    {
     "name": "stdout",
     "output_type": "stream",
     "text": [
      "Specificity: 0.60431654676259\n"
     ]
    }
   ],
   "source": [
    "# new specificity (lower than before)\n",
    "print('Specificity:', TN / float(TN + FP))"
   ]
  },
  {
   "cell_type": "code",
   "execution_count": 34,
   "metadata": {},
   "outputs": [
    {
     "name": "stdout",
     "output_type": "stream",
     "text": [
      "              precision    recall  f1-score   support\n",
      "\n",
      "           0       0.80      0.60      0.69       139\n",
      "           1       0.53      0.75      0.62        84\n",
      "\n",
      "    accuracy                           0.66       223\n",
      "   macro avg       0.67      0.68      0.66       223\n",
      "weighted avg       0.70      0.66      0.66       223\n",
      "\n"
     ]
    }
   ],
   "source": [
    "print(metrics.classification_report(y_test, y_pred_class_new))"
   ]
  },
  {
   "cell_type": "code",
   "execution_count": 35,
   "metadata": {},
   "outputs": [
    {
     "name": "stdout",
     "output_type": "stream",
     "text": [
      "              precision    recall  f1-score   support\n",
      "\n",
      "           0       0.73      0.82      0.77       139\n",
      "           1       0.63      0.50      0.56        84\n",
      "\n",
      "    accuracy                           0.70       223\n",
      "   macro avg       0.68      0.66      0.66       223\n",
      "weighted avg       0.69      0.70      0.69       223\n",
      "\n"
     ]
    }
   ],
   "source": [
    "print(metrics.classification_report(y_test, y_pred_class))"
   ]
  },
  {
   "cell_type": "markdown",
   "metadata": {},
   "source": [
    "## 4. ROC, AUC"
   ]
  },
  {
   "cell_type": "markdown",
   "metadata": {},
   "source": [
    "### ROC curve 그리기, AUC 계산하기"
   ]
  },
  {
   "cell_type": "markdown",
   "metadata": {},
   "source": [
    "- sklearn.metrics.roc_curve(y_true, y_score, pos_label=None, sample_weight=None, drop_intermediate=True)[source]¶"
   ]
  },
  {
   "cell_type": "code",
   "execution_count": 36,
   "metadata": {},
   "outputs": [],
   "source": [
    "from sklearn.metrics import roc_curve, auc"
   ]
  },
  {
   "cell_type": "code",
   "execution_count": 37,
   "metadata": {},
   "outputs": [],
   "source": [
    "classifier = LogisticRegression(penalty='l2', C=1)\n",
    "y_prob = classifier.fit(X_train, y_train).predict_proba(X_test)\n",
    "y_score = classifier.fit(X_train, y_train).decision_function(X_test)"
   ]
  },
  {
   "cell_type": "code",
   "execution_count": 38,
   "metadata": {
    "scrolled": true
   },
   "outputs": [
    {
     "name": "stdout",
     "output_type": "stream",
     "text": [
      "[[0.70778909 0.29221091]\n",
      " [0.76002498 0.23997502]\n",
      " [0.3834272  0.6165728 ]\n",
      " [0.3834272  0.6165728 ]\n",
      " [0.76002498 0.23997502]]\n"
     ]
    }
   ],
   "source": [
    "print(y_prob[0:5,:])"
   ]
  },
  {
   "cell_type": "code",
   "execution_count": 39,
   "metadata": {},
   "outputs": [
    {
     "name": "stdout",
     "output_type": "stream",
     "text": [
      "[-0.88467033 -1.15281645  0.47502661  0.47502661 -1.15281645]\n"
     ]
    }
   ],
   "source": [
    "print(y_score[0:5])"
   ]
  },
  {
   "cell_type": "code",
   "execution_count": 40,
   "metadata": {},
   "outputs": [
    {
     "name": "stdout",
     "output_type": "stream",
     "text": [
      "0.7245632065775951\n"
     ]
    }
   ],
   "source": [
    "fpr, tpr, _ = roc_curve(y_test, y_prob[:,1])\n",
    "# fpr, tpr, _ = roc_curve(y_test, y_score)\n",
    "roc_auc = auc(fpr, tpr)\n",
    "print(roc_auc)"
   ]
  },
  {
   "cell_type": "code",
   "execution_count": 41,
   "metadata": {},
   "outputs": [
    {
     "data": {
      "image/png": "[encoded data removed]",
      "text/plain": [
       "<Figure size 432x288 with 1 Axes>"
      ]
     },
     "metadata": {
      "needs_background": "light"
     },
     "output_type": "display_data"
    }
   ],
   "source": [
    "plt.figure()\n",
    "plt.plot(fpr, tpr, label = 'ROC curve')\n",
    "plt.plot([0,1], [0,1], 'k--')\n",
    "plt.xlim([0.0, 1.0])\n",
    "plt.ylim([0.0, 1.05])\n",
    "plt.xlabel('False Positive Rate')\n",
    "plt.ylabel('True Positive Rate')\n",
    "plt.title('Receiver operating characteristic example')\n",
    "plt.legend(loc=\"lower right\")\n",
    "plt.show()"
   ]
  },
  {
   "cell_type": "markdown",
   "metadata": {},
   "source": [
    "## 5. GridSearchCV with LogisticRegression"
   ]
  },
  {
   "cell_type": "code",
   "execution_count": 42,
   "metadata": {},
   "outputs": [],
   "source": [
    "from sklearn.linear_model import LogisticRegression  \n",
    "from sklearn.model_selection import GridSearchCV\n",
    "\n",
    "import warnings \n",
    "warnings.filterwarnings(\"ignore\")"
   ]
  },
  {
   "cell_type": "code",
   "execution_count": 43,
   "metadata": {},
   "outputs": [],
   "source": [
    "param_grid = {\n",
    "    'C':[0.01, 0.1, 1, 10, 100],\n",
    "    'penalty':['l1', 'l2']\n",
    "}"
   ]
  },
  {
   "cell_type": "code",
   "execution_count": 44,
   "metadata": {},
   "outputs": [],
   "source": [
    "LR = LogisticRegression()\n",
    "GV = GridSearchCV(LR, param_grid, scoring='accuracy', cv=10)"
   ]
  },
  {
   "cell_type": "code",
   "execution_count": 48,
   "metadata": {},
   "outputs": [],
   "source": [
    "GV = GV.fit(X_train, y_train)  \n",
    "y_pred_gv = GV.predict(X_test)"
   ]
  },
  {
   "cell_type": "code",
   "execution_count": 49,
   "metadata": {},
   "outputs": [
    {
     "data": {
      "text/plain": [
       "{'C': 1, 'penalty': 'l2'}"
      ]
     },
     "execution_count": 49,
     "metadata": {},
     "output_type": "execute_result"
    }
   ],
   "source": [
    "GV.best_params_"
   ]
  },
  {
   "cell_type": "code",
   "execution_count": 50,
   "metadata": {},
   "outputs": [
    {
     "name": "stdout",
     "output_type": "stream",
     "text": [
      "0.6995515695067265\n"
     ]
    }
   ],
   "source": [
    "from sklearn import metrics\n",
    "\n",
    "print(metrics.accuracy_score(y_test, y_pred_gv))"
   ]
  },
  {
   "cell_type": "code",
   "execution_count": 51,
   "metadata": {},
   "outputs": [
    {
     "name": "stdout",
     "output_type": "stream",
     "text": [
      "              precision    recall  f1-score   support\n",
      "\n",
      "           0       0.73      0.82      0.77       139\n",
      "           1       0.63      0.50      0.56        84\n",
      "\n",
      "    accuracy                           0.70       223\n",
      "   macro avg       0.68      0.66      0.66       223\n",
      "weighted avg       0.69      0.70      0.69       223\n",
      "\n"
     ]
    }
   ],
   "source": [
    "print(metrics.classification_report(y_test, y_pred_gv))"
   ]
  },
  {
   "cell_type": "markdown",
   "metadata": {},
   "source": [
    "## 6. Pipeline with Logistic Regression"
   ]
  },
  {
   "cell_type": "code",
   "execution_count": 53,
   "metadata": {},
   "outputs": [],
   "source": [
    "from sklearn import preprocessing\n",
    "from sklearn.pipeline import Pipeline\n",
    "from sklearn.feature_selection import SelectKBest, f_regression"
   ]
  },
  {
   "cell_type": "code",
   "execution_count": 59,
   "metadata": {},
   "outputs": [
    {
     "name": "stdout",
     "output_type": "stream",
     "text": [
      "0.6824966078697423\n"
     ]
    }
   ],
   "source": [
    "# 최소값을 0, 최대값을 1로 변환하여 scale\n",
    "scale = preprocessing.MinMaxScaler(feature_range = [0,1])\n",
    "\n",
    "# 모델 fit\n",
    "LR = LogisticRegression()\n",
    "\n",
    "# 파이프라인 구성\n",
    "pipeline = Pipeline([('scaler', scale), ('model', LR)])\n",
    "\n",
    "# Hyper-Parmeters 튜닝\n",
    "param_grid = {\n",
    "    'C':[0.01, 0.1, 1, 10, 100],\n",
    "    'penalty':['l1', 'l2']\n",
    "}\n",
    "\n",
    "#  AUC 기준 최적 Params 도출 / 10개의 k-fold 설정\n",
    "GV = GridSearchCV(LR, param_grid, scoring='accuracy', cv=10)\n",
    "\n",
    "# Model fit\n",
    "GV = GV.fit(X_train, y_train)  \n",
    "\n",
    "print(GV.best_score_)"
   ]
  },
  {
   "cell_type": "code",
   "execution_count": 62,
   "metadata": {},
   "outputs": [],
   "source": [
    "y_pred_pipe = GV.predict(X_test)"
   ]
  },
  {
   "cell_type": "code",
   "execution_count": 64,
   "metadata": {},
   "outputs": [
    {
     "name": "stdout",
     "output_type": "stream",
     "text": [
      "0.6995515695067265\n"
     ]
    }
   ],
   "source": [
    "print(metrics.accuracy_score(y_test, y_pred_pipe))"
   ]
  },
  {
   "cell_type": "code",
   "execution_count": 65,
   "metadata": {},
   "outputs": [
    {
     "name": "stdout",
     "output_type": "stream",
     "text": [
      "              precision    recall  f1-score   support\n",
      "\n",
      "           0       0.73      0.82      0.77       139\n",
      "           1       0.63      0.50      0.56        84\n",
      "\n",
      "    accuracy                           0.70       223\n",
      "   macro avg       0.68      0.66      0.66       223\n",
      "weighted avg       0.69      0.70      0.69       223\n",
      "\n"
     ]
    }
   ],
   "source": [
    "print(metrics.classification_report(y_test, y_pred_pipe))"
   ]
  },
  {
   "cell_type": "code",
   "execution_count": null,
   "metadata": {},
   "outputs": [],
   "source": []
  }
 ],
 "metadata": {
  "anaconda-cloud": {},
  "kernelspec": {
   "display_name": "Python 3",
   "language": "python",
   "name": "python3"
  },
  "language_info": {
   "codemirror_mode": {
    "name": "ipython",
    "version": 3
   },
   "file_extension": ".py",
   "mimetype": "text/x-python",
   "name": "python",
   "nbconvert_exporter": "python",
   "pygments_lexer": "ipython3",
   "version": "3.8.8"
  }
 },
 "nbformat": 4,
 "nbformat_minor": 4
}
