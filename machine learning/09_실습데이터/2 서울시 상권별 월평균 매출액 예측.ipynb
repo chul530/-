{
 "cells": [
  {
   "cell_type": "markdown",
   "id": "55167d4b",
   "metadata": {},
   "source": [
    "상권 종목 별 월평균 매출액 예측\n",
    "\n",
    "시계열 데이터 변환\n",
    "\n",
    "분기별 예측 R^2 80%이상"
   ]
  },
  {
   "cell_type": "code",
   "execution_count": 1,
   "id": "2c0740dc",
   "metadata": {},
   "outputs": [],
   "source": [
    "import pandas as pd\n",
    "import numpy as np\n",
    "import matplotlib.pyplot as plt\n",
    "import seaborn as sns\n",
    "import os"
   ]
  },
  {
   "cell_type": "code",
   "execution_count": 2,
   "id": "e19e309c",
   "metadata": {},
   "outputs": [],
   "source": [
    "path = '../상권배후지추정매출/'\n",
    "file_list = os.listdir(path)\n",
    "file_list_py = [file for file in file_list if file.endswith('.csv')]"
   ]
  },
  {
   "cell_type": "code",
   "execution_count": 3,
   "id": "55f4698f",
   "metadata": {},
   "outputs": [
    {
     "data": {
      "text/plain": [
       "['2014년_우리마을가게_상권서비스_상권배후지-추정매출.csv',\n",
       " '2015년_우리마을가게_상권서비스_상권배후지-추정매출.csv',\n",
       " '2016년_우리마을가게_상권서비스_상권배후지-추정매출.csv',\n",
       " '2017년_우리마을가게_상권서비스_상권배후지-추정매출.csv',\n",
       " '2018년_우리마을가게_상권서비스_상권배후지-추정매출.csv',\n",
       " '2019년_우리마을가게_상권서비스_상권배후지-추정매출.csv',\n",
       " '2020년_우리마을가게_상권서비스_상권배후지-추정매출.csv']"
      ]
     },
     "execution_count": 3,
     "metadata": {},
     "output_type": "execute_result"
    }
   ],
   "source": [
    "file_list_py"
   ]
  },
  {
   "cell_type": "code",
   "execution_count": 27,
   "id": "29ef69c2",
   "metadata": {},
   "outputs": [
    {
     "data": {
      "text/plain": [
       "(1434810, 80)"
      ]
     },
     "execution_count": 27,
     "metadata": {},
     "output_type": "execute_result"
    }
   ],
   "source": [
    "df = pd.DataFrame()\n",
    "for i in file_list_py:\n",
    "    data = pd.read_csv(path + i, encoding='cp949', thousands = ',')\n",
    "    df = pd.concat([df,data])\n",
    "df = df.reset_index(drop = True)\n",
    "df.shape"
   ]
  },
  {
   "cell_type": "code",
   "execution_count": 5,
   "id": "4cfa43bf",
   "metadata": {},
   "outputs": [
    {
     "data": {
      "text/plain": [
       "기준_년_코드            0\n",
       "기준_분기_코드           0\n",
       "상권_구분_코드           0\n",
       "상권_구분_코드_명         0\n",
       "상권_코드              0\n",
       "                  ..\n",
       "연령대_30_매출_건수       0\n",
       "연령대_40_매출_건수       0\n",
       "연령대_50_매출_건수       0\n",
       "연령대_60_이상_매출_건수    0\n",
       "점포수                0\n",
       "Length: 80, dtype: int64"
      ]
     },
     "execution_count": 5,
     "metadata": {},
     "output_type": "execute_result"
    }
   ],
   "source": [
    "df.isna().sum()"
   ]
  },
  {
   "cell_type": "code",
   "execution_count": 28,
   "id": "b00e1cdb",
   "metadata": {
    "scrolled": false
   },
   "outputs": [
    {
     "data": {
      "text/html": [
       "<div>\n",
       "<style scoped>\n",
       "    .dataframe tbody tr th:only-of-type {\n",
       "        vertical-align: middle;\n",
       "    }\n",
       "\n",
       "    .dataframe tbody tr th {\n",
       "        vertical-align: top;\n",
       "    }\n",
       "\n",
       "    .dataframe thead th {\n",
       "        text-align: right;\n",
       "    }\n",
       "</style>\n",
       "<table border=\"1\" class=\"dataframe\">\n",
       "  <thead>\n",
       "    <tr style=\"text-align: right;\">\n",
       "      <th></th>\n",
       "      <th>기준_년_코드</th>\n",
       "      <th>기준_분기_코드</th>\n",
       "      <th>상권_구분_코드</th>\n",
       "      <th>상권_구분_코드_명</th>\n",
       "      <th>상권_코드</th>\n",
       "      <th>상권_코드_명</th>\n",
       "      <th>서비스_업종_코드</th>\n",
       "      <th>서비스_업종_코드_명</th>\n",
       "      <th>당월_매출_금액</th>\n",
       "      <th>당월_매출_건수</th>\n",
       "      <th>...</th>\n",
       "      <th>시간대_건수~24_매출_건수</th>\n",
       "      <th>남성_매출_건수</th>\n",
       "      <th>여성_매출_건수</th>\n",
       "      <th>연령대_10_매출_건수</th>\n",
       "      <th>연령대_20_매출_건수</th>\n",
       "      <th>연령대_30_매출_건수</th>\n",
       "      <th>연령대_40_매출_건수</th>\n",
       "      <th>연령대_50_매출_건수</th>\n",
       "      <th>연령대_60_이상_매출_건수</th>\n",
       "      <th>점포수</th>\n",
       "    </tr>\n",
       "  </thead>\n",
       "  <tbody>\n",
       "    <tr>\n",
       "      <th>0</th>\n",
       "      <td>2014</td>\n",
       "      <td>1</td>\n",
       "      <td>A</td>\n",
       "      <td>골목상권</td>\n",
       "      <td>1000522</td>\n",
       "      <td>목동로9길</td>\n",
       "      <td>CS200041</td>\n",
       "      <td>사진관</td>\n",
       "      <td>161604397</td>\n",
       "      <td>3021</td>\n",
       "      <td>...</td>\n",
       "      <td>63</td>\n",
       "      <td>1450</td>\n",
       "      <td>1435</td>\n",
       "      <td>97</td>\n",
       "      <td>683</td>\n",
       "      <td>679</td>\n",
       "      <td>674</td>\n",
       "      <td>441</td>\n",
       "      <td>311</td>\n",
       "      <td>5</td>\n",
       "    </tr>\n",
       "    <tr>\n",
       "      <th>1</th>\n",
       "      <td>2014</td>\n",
       "      <td>1</td>\n",
       "      <td>A</td>\n",
       "      <td>골목상권</td>\n",
       "      <td>1000580</td>\n",
       "      <td>공항대로8길</td>\n",
       "      <td>CS100007</td>\n",
       "      <td>치킨전문점</td>\n",
       "      <td>352909128</td>\n",
       "      <td>14422</td>\n",
       "      <td>...</td>\n",
       "      <td>5746</td>\n",
       "      <td>8280</td>\n",
       "      <td>5597</td>\n",
       "      <td>256</td>\n",
       "      <td>3970</td>\n",
       "      <td>4688</td>\n",
       "      <td>2750</td>\n",
       "      <td>1707</td>\n",
       "      <td>510</td>\n",
       "      <td>19</td>\n",
       "    </tr>\n",
       "    <tr>\n",
       "      <th>2</th>\n",
       "      <td>2014</td>\n",
       "      <td>1</td>\n",
       "      <td>A</td>\n",
       "      <td>골목상권</td>\n",
       "      <td>1000507</td>\n",
       "      <td>가로공원로58길</td>\n",
       "      <td>CS200028</td>\n",
       "      <td>미용실</td>\n",
       "      <td>174625276</td>\n",
       "      <td>5695</td>\n",
       "      <td>...</td>\n",
       "      <td>289</td>\n",
       "      <td>2639</td>\n",
       "      <td>3044</td>\n",
       "      <td>130</td>\n",
       "      <td>1234</td>\n",
       "      <td>1561</td>\n",
       "      <td>1440</td>\n",
       "      <td>925</td>\n",
       "      <td>391</td>\n",
       "      <td>36</td>\n",
       "    </tr>\n",
       "    <tr>\n",
       "      <th>3</th>\n",
       "      <td>2014</td>\n",
       "      <td>1</td>\n",
       "      <td>A</td>\n",
       "      <td>골목상권</td>\n",
       "      <td>1000556</td>\n",
       "      <td>강서로18길</td>\n",
       "      <td>CS300035</td>\n",
       "      <td>인테리어</td>\n",
       "      <td>158530192</td>\n",
       "      <td>1571</td>\n",
       "      <td>...</td>\n",
       "      <td>30</td>\n",
       "      <td>395</td>\n",
       "      <td>1158</td>\n",
       "      <td>20</td>\n",
       "      <td>127</td>\n",
       "      <td>662</td>\n",
       "      <td>366</td>\n",
       "      <td>286</td>\n",
       "      <td>92</td>\n",
       "      <td>21</td>\n",
       "    </tr>\n",
       "    <tr>\n",
       "      <th>4</th>\n",
       "      <td>2014</td>\n",
       "      <td>1</td>\n",
       "      <td>A</td>\n",
       "      <td>골목상권</td>\n",
       "      <td>1000509</td>\n",
       "      <td>곰달래로2길</td>\n",
       "      <td>CS100007</td>\n",
       "      <td>치킨전문점</td>\n",
       "      <td>238151311</td>\n",
       "      <td>9718</td>\n",
       "      <td>...</td>\n",
       "      <td>4157</td>\n",
       "      <td>5763</td>\n",
       "      <td>3573</td>\n",
       "      <td>171</td>\n",
       "      <td>2165</td>\n",
       "      <td>3484</td>\n",
       "      <td>2160</td>\n",
       "      <td>1038</td>\n",
       "      <td>316</td>\n",
       "      <td>11</td>\n",
       "    </tr>\n",
       "  </tbody>\n",
       "</table>\n",
       "<p>5 rows × 80 columns</p>\n",
       "</div>"
      ],
      "text/plain": [
       "   기준_년_코드  기준_분기_코드 상권_구분_코드 상권_구분_코드_명    상권_코드   상권_코드_명 서비스_업종_코드  \\\n",
       "0     2014         1        A       골목상권  1000522     목동로9길  CS200041   \n",
       "1     2014         1        A       골목상권  1000580    공항대로8길  CS100007   \n",
       "2     2014         1        A       골목상권  1000507  가로공원로58길  CS200028   \n",
       "3     2014         1        A       골목상권  1000556    강서로18길  CS300035   \n",
       "4     2014         1        A       골목상권  1000509    곰달래로2길  CS100007   \n",
       "\n",
       "  서비스_업종_코드_명   당월_매출_금액  당월_매출_건수  ...  시간대_건수~24_매출_건수  남성_매출_건수  여성_매출_건수  \\\n",
       "0         사진관  161604397      3021  ...               63      1450      1435   \n",
       "1       치킨전문점  352909128     14422  ...             5746      8280      5597   \n",
       "2         미용실  174625276      5695  ...              289      2639      3044   \n",
       "3        인테리어  158530192      1571  ...               30       395      1158   \n",
       "4       치킨전문점  238151311      9718  ...             4157      5763      3573   \n",
       "\n",
       "   연령대_10_매출_건수  연령대_20_매출_건수  연령대_30_매출_건수  연령대_40_매출_건수  연령대_50_매출_건수  \\\n",
       "0            97           683           679           674           441   \n",
       "1           256          3970          4688          2750          1707   \n",
       "2           130          1234          1561          1440           925   \n",
       "3            20           127           662           366           286   \n",
       "4           171          2165          3484          2160          1038   \n",
       "\n",
       "   연령대_60_이상_매출_건수  점포수  \n",
       "0              311    5  \n",
       "1              510   19  \n",
       "2              391   36  \n",
       "3               92   21  \n",
       "4              316   11  \n",
       "\n",
       "[5 rows x 80 columns]"
      ]
     },
     "execution_count": 28,
     "metadata": {},
     "output_type": "execute_result"
    }
   ],
   "source": [
    "df.head()"
   ]
  },
  {
   "cell_type": "code",
   "execution_count": 29,
   "id": "3ae6e030",
   "metadata": {},
   "outputs": [],
   "source": [
    "df['점포수']=df['점포수'].replace({0:1})"
   ]
  },
  {
   "cell_type": "code",
   "execution_count": 32,
   "id": "2a699848",
   "metadata": {},
   "outputs": [
    {
     "data": {
      "text/plain": [
       "0           5\n",
       "1          19\n",
       "2          36\n",
       "3          21\n",
       "4          11\n",
       "           ..\n",
       "1434805    15\n",
       "1434806    34\n",
       "1434807     5\n",
       "1434808     4\n",
       "1434809    94\n",
       "Name: 점포수, Length: 1434810, dtype: int64"
      ]
     },
     "execution_count": 32,
     "metadata": {},
     "output_type": "execute_result"
    }
   ],
   "source": [
    "df['점포수']"
   ]
  },
  {
   "cell_type": "code",
   "execution_count": null,
   "id": "99827564",
   "metadata": {},
   "outputs": [],
   "source": []
  }
 ],
 "metadata": {
  "kernelspec": {
   "display_name": "Python 3",
   "language": "python",
   "name": "python3"
  },
  "language_info": {
   "codemirror_mode": {
    "name": "ipython",
    "version": 3
   },
   "file_extension": ".py",
   "mimetype": "text/x-python",
   "name": "python",
   "nbconvert_exporter": "python",
   "pygments_lexer": "ipython3",
   "version": "3.8.8"
  }
 },
 "nbformat": 4,
 "nbformat_minor": 5
}
