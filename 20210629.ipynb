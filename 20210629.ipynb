{
 "cells": [
  {
   "cell_type": "markdown",
   "id": "apart-plaza",
   "metadata": {},
   "source": [
    "프로그래밍 언어 : Python\n",
    "데이터 분석 라이브러리 : Pandas\n",
    "수학적 계산 라이브러리 : Numpy\n",
    "차트 시각화 라이브러리 : Matplotlib, Seaborn\n",
    "머신러닝 ; Scikit-learn\n",
    "딥러닝 : Tensor-flow, Pytorch\n",
    "인공지능"
   ]
  },
  {
   "cell_type": "markdown",
   "id": "compatible-theology",
   "metadata": {},
   "source": [
    "# 자료형"
   ]
  },
  {
   "cell_type": "code",
   "execution_count": 2,
   "id": "specified-stake",
   "metadata": {},
   "outputs": [
    {
     "name": "stdout",
     "output_type": "stream",
     "text": [
      "My name is hong, and 30 years old\n"
     ]
    }
   ],
   "source": [
    "name = 'hong'\n",
    "age = 30\n",
    "print(f'My name is {name}, and {age} years old')"
   ]
  },
  {
   "cell_type": "code",
   "execution_count": 4,
   "id": "rental-dodge",
   "metadata": {},
   "outputs": [
    {
     "name": "stdout",
     "output_type": "stream",
     "text": [
      "l'll become 31 years old next year\n"
     ]
    }
   ],
   "source": [
    "print(f\"l'll become {age+1} years old next year\")"
   ]
  },
  {
   "cell_type": "code",
   "execution_count": 5,
   "id": "contemporary-stable",
   "metadata": {},
   "outputs": [],
   "source": [
    "a = \"life is too short\""
   ]
  },
  {
   "cell_type": "code",
   "execution_count": 7,
   "id": "challenging-artist",
   "metadata": {},
   "outputs": [],
   "source": [
    "li = a.split()"
   ]
  },
  {
   "cell_type": "code",
   "execution_count": 10,
   "id": "hispanic-record",
   "metadata": {},
   "outputs": [
    {
     "name": "stdout",
     "output_type": "stream",
     "text": [
      "['life', 'is', 'too', 'short']\n"
     ]
    }
   ],
   "source": [
    "print(li)"
   ]
  },
  {
   "cell_type": "code",
   "execution_count": 11,
   "id": "certain-deficit",
   "metadata": {},
   "outputs": [
    {
     "data": {
      "text/plain": [
       "list"
      ]
     },
     "execution_count": 11,
     "metadata": {},
     "output_type": "execute_result"
    }
   ],
   "source": [
    "type(li)"
   ]
  },
  {
   "cell_type": "code",
   "execution_count": 13,
   "id": "roman-stuff",
   "metadata": {},
   "outputs": [],
   "source": [
    "b = \"li.fe is. to.o sh.ort\""
   ]
  },
  {
   "cell_type": "code",
   "execution_count": 16,
   "id": "impaired-small",
   "metadata": {},
   "outputs": [],
   "source": [
    "li_b = b.split('.')"
   ]
  },
  {
   "cell_type": "code",
   "execution_count": 17,
   "id": "inappropriate-underwear",
   "metadata": {},
   "outputs": [
    {
     "name": "stdout",
     "output_type": "stream",
     "text": [
      "['li', 'fe is', ' to', 'o sh', 'ort']\n"
     ]
    }
   ],
   "source": [
    "print(li_b)"
   ]
  },
  {
   "cell_type": "markdown",
   "id": "dressed-manchester",
   "metadata": {},
   "source": [
    "리스트 안에는 어떠한 자료형도 포함가능"
   ]
  },
  {
   "cell_type": "code",
   "execution_count": 20,
   "id": "transsexual-croatia",
   "metadata": {},
   "outputs": [],
   "source": [
    "d = [1, 2, 'apple', 'banana', [3, 4, 'cat', 'dog']]"
   ]
  },
  {
   "cell_type": "code",
   "execution_count": 19,
   "id": "placed-penalty",
   "metadata": {},
   "outputs": [
    {
     "name": "stdout",
     "output_type": "stream",
     "text": [
      "[1, 2, 'apple', 'banana']\n"
     ]
    }
   ],
   "source": [
    "print(d)"
   ]
  },
  {
   "cell_type": "code",
   "execution_count": 21,
   "id": "accompanied-iraqi",
   "metadata": {},
   "outputs": [
    {
     "name": "stdout",
     "output_type": "stream",
     "text": [
      "[3, 4, 'cat', 'dog']\n"
     ]
    }
   ],
   "source": [
    "print(d[4])"
   ]
  },
  {
   "cell_type": "code",
   "execution_count": 24,
   "id": "loved-tonight",
   "metadata": {},
   "outputs": [
    {
     "name": "stdout",
     "output_type": "stream",
     "text": [
      "cat\n"
     ]
    }
   ],
   "source": [
    "print(d[4][2])"
   ]
  },
  {
   "cell_type": "code",
   "execution_count": 26,
   "id": "tamil-sight",
   "metadata": {},
   "outputs": [],
   "source": [
    "e = 'python'"
   ]
  },
  {
   "cell_type": "code",
   "execution_count": 27,
   "id": "fifty-repository",
   "metadata": {},
   "outputs": [
    {
     "data": {
      "text/plain": [
       "'pythonpython'"
      ]
     },
     "execution_count": 27,
     "metadata": {},
     "output_type": "execute_result"
    }
   ],
   "source": [
    "e * 2"
   ]
  },
  {
   "cell_type": "code",
   "execution_count": 29,
   "id": "interim-referral",
   "metadata": {},
   "outputs": [
    {
     "data": {
      "text/plain": [
       "['life', 'is', 'too', 'short', 'life', 'is', 'too', 'short']"
      ]
     },
     "execution_count": 29,
     "metadata": {},
     "output_type": "execute_result"
    }
   ],
   "source": [
    "li * 2"
   ]
  },
  {
   "cell_type": "code",
   "execution_count": 38,
   "id": "behavioral-booking",
   "metadata": {},
   "outputs": [
    {
     "data": {
      "text/plain": [
       "'y'"
      ]
     },
     "execution_count": 38,
     "metadata": {},
     "output_type": "execute_result"
    }
   ],
   "source": [
    "a[1]"
   ]
  },
  {
   "cell_type": "code",
   "execution_count": 41,
   "id": "still-establishment",
   "metadata": {},
   "outputs": [],
   "source": [
    "li[2] = 'two'"
   ]
  },
  {
   "cell_type": "code",
   "execution_count": 42,
   "id": "considerable-tournament",
   "metadata": {},
   "outputs": [],
   "source": [
    "a = [1,2,3,4,2,5]"
   ]
  },
  {
   "cell_type": "code",
   "execution_count": 44,
   "id": "engaged-arabic",
   "metadata": {},
   "outputs": [
    {
     "data": {
      "text/plain": [
       "4"
      ]
     },
     "execution_count": 44,
     "metadata": {},
     "output_type": "execute_result"
    }
   ],
   "source": [
    "a.index(2,2)"
   ]
  },
  {
   "cell_type": "code",
   "execution_count": 45,
   "id": "attached-profession",
   "metadata": {},
   "outputs": [
    {
     "data": {
      "text/plain": [
       "5"
      ]
     },
     "execution_count": 45,
     "metadata": {},
     "output_type": "execute_result"
    }
   ],
   "source": [
    "a.pop()"
   ]
  },
  {
   "cell_type": "code",
   "execution_count": 48,
   "id": "convinced-vacation",
   "metadata": {},
   "outputs": [
    {
     "data": {
      "text/plain": [
       "[1, 2, 3, 4, 2]"
      ]
     },
     "execution_count": 48,
     "metadata": {},
     "output_type": "execute_result"
    }
   ],
   "source": [
    "a"
   ]
  },
  {
   "cell_type": "code",
   "execution_count": 60,
   "id": "automatic-earth",
   "metadata": {},
   "outputs": [],
   "source": [
    "tu1 = 1\n",
    "tu2=(1)\n",
    "tu2_1 = (1,)\n",
    "tu2_2 = 1,"
   ]
  },
  {
   "cell_type": "markdown",
   "id": "royal-dayton",
   "metadata": {},
   "source": [
    "튜플은 1개일때 , 필수 아니면 int로 인식, 괄호는 생략해도 상관없음"
   ]
  },
  {
   "cell_type": "code",
   "execution_count": 56,
   "id": "distinguished-threshold",
   "metadata": {},
   "outputs": [
    {
     "data": {
      "text/plain": [
       "int"
      ]
     },
     "execution_count": 56,
     "metadata": {},
     "output_type": "execute_result"
    }
   ],
   "source": [
    "type(tu1)"
   ]
  },
  {
   "cell_type": "code",
   "execution_count": 57,
   "id": "associate-policy",
   "metadata": {},
   "outputs": [
    {
     "data": {
      "text/plain": [
       "int"
      ]
     },
     "execution_count": 57,
     "metadata": {},
     "output_type": "execute_result"
    }
   ],
   "source": [
    "type(tu2)"
   ]
  },
  {
   "cell_type": "code",
   "execution_count": 58,
   "id": "seven-integer",
   "metadata": {},
   "outputs": [
    {
     "data": {
      "text/plain": [
       "tuple"
      ]
     },
     "execution_count": 58,
     "metadata": {},
     "output_type": "execute_result"
    }
   ],
   "source": [
    "type(tu2_1)"
   ]
  },
  {
   "cell_type": "code",
   "execution_count": 61,
   "id": "large-trading",
   "metadata": {},
   "outputs": [
    {
     "data": {
      "text/plain": [
       "tuple"
      ]
     },
     "execution_count": 61,
     "metadata": {},
     "output_type": "execute_result"
    }
   ],
   "source": [
    "type(tu2_2)"
   ]
  },
  {
   "cell_type": "markdown",
   "id": "worst-hayes",
   "metadata": {},
   "source": [
    "튜플은 변경할 수 없기 때문에 값을 유지하려면 튜플, 변경해야한다면 리스트 사용"
   ]
  },
  {
   "cell_type": "code",
   "execution_count": 62,
   "id": "round-meeting",
   "metadata": {},
   "outputs": [],
   "source": [
    "dic = {'a':123, 1:'school', (2,3):'python'}"
   ]
  },
  {
   "cell_type": "code",
   "execution_count": 65,
   "id": "honest-clause",
   "metadata": {},
   "outputs": [
    {
     "ename": "TypeError",
     "evalue": "unhashable type: 'list'",
     "output_type": "error",
     "traceback": [
      "\u001b[1;31m---------------------------------------------------------------------------\u001b[0m",
      "\u001b[1;31mTypeError\u001b[0m                                 Traceback (most recent call last)",
      "\u001b[1;32m<ipython-input-65-30f49896688a>\u001b[0m in \u001b[0;36m<module>\u001b[1;34m\u001b[0m\n\u001b[1;32m----> 1\u001b[1;33m \u001b[0mdic\u001b[0m \u001b[1;33m=\u001b[0m \u001b[1;33m{\u001b[0m\u001b[1;34m'a'\u001b[0m\u001b[1;33m:\u001b[0m\u001b[1;36m123\u001b[0m\u001b[1;33m,\u001b[0m \u001b[1;36m1\u001b[0m\u001b[1;33m:\u001b[0m\u001b[1;34m'school'\u001b[0m\u001b[1;33m,\u001b[0m \u001b[1;33m(\u001b[0m\u001b[1;36m2\u001b[0m\u001b[1;33m,\u001b[0m\u001b[1;36m3\u001b[0m\u001b[1;33m)\u001b[0m\u001b[1;33m:\u001b[0m\u001b[1;34m'python'\u001b[0m\u001b[1;33m,\u001b[0m \u001b[1;33m[\u001b[0m\u001b[1;36m1\u001b[0m\u001b[1;33m,\u001b[0m\u001b[1;36m2\u001b[0m\u001b[1;33m]\u001b[0m\u001b[1;33m:\u001b[0m\u001b[1;34m'abc'\u001b[0m\u001b[1;33m}\u001b[0m\u001b[1;33m\u001b[0m\u001b[1;33m\u001b[0m\u001b[0m\n\u001b[0m",
      "\u001b[1;31mTypeError\u001b[0m: unhashable type: 'list'"
     ]
    }
   ],
   "source": [
    "dic = {'a':123, 1:'school', (2,3):'python', [1,2]:'abc'}"
   ]
  },
  {
   "cell_type": "markdown",
   "id": "biblical-helena",
   "metadata": {},
   "source": [
    "dictionary 안의 key 값은 변할 수 없기 때문에 리스트는 사용 불가"
   ]
  },
  {
   "cell_type": "code",
   "execution_count": 69,
   "id": "comprehensive-option",
   "metadata": {},
   "outputs": [
    {
     "data": {
      "text/plain": [
       "123"
      ]
     },
     "execution_count": 69,
     "metadata": {},
     "output_type": "execute_result"
    }
   ],
   "source": [
    "dic['a']"
   ]
  },
  {
   "cell_type": "code",
   "execution_count": 76,
   "id": "qualified-defense",
   "metadata": {},
   "outputs": [],
   "source": [
    "dic[123]='abcd'"
   ]
  },
  {
   "cell_type": "code",
   "execution_count": 77,
   "id": "wicked-outdoors",
   "metadata": {},
   "outputs": [
    {
     "data": {
      "text/plain": [
       "{1: 'school', (2, 3): 'python', 123: 'abcd'}"
      ]
     },
     "execution_count": 77,
     "metadata": {},
     "output_type": "execute_result"
    }
   ],
   "source": [
    "dic"
   ]
  },
  {
   "cell_type": "code",
   "execution_count": 78,
   "id": "missing-sympathy",
   "metadata": {},
   "outputs": [
    {
     "ename": "KeyError",
     "evalue": "'a'",
     "output_type": "error",
     "traceback": [
      "\u001b[1;31m---------------------------------------------------------------------------\u001b[0m",
      "\u001b[1;31mKeyError\u001b[0m                                  Traceback (most recent call last)",
      "\u001b[1;32m<ipython-input-78-1e17edf4e83c>\u001b[0m in \u001b[0;36m<module>\u001b[1;34m\u001b[0m\n\u001b[1;32m----> 1\u001b[1;33m \u001b[1;32mdel\u001b[0m \u001b[0mdic\u001b[0m\u001b[1;33m[\u001b[0m\u001b[1;34m'a'\u001b[0m\u001b[1;33m]\u001b[0m\u001b[1;33m\u001b[0m\u001b[1;33m\u001b[0m\u001b[0m\n\u001b[0m",
      "\u001b[1;31mKeyError\u001b[0m: 'a'"
     ]
    }
   ],
   "source": [
    "del dic['a']"
   ]
  },
  {
   "cell_type": "code",
   "execution_count": 75,
   "id": "distinct-bride",
   "metadata": {},
   "outputs": [
    {
     "data": {
      "text/plain": [
       "{1: 'school', (2, 3): 'python'}"
      ]
     },
     "execution_count": 75,
     "metadata": {},
     "output_type": "execute_result"
    }
   ],
   "source": [
    "dic"
   ]
  },
  {
   "cell_type": "code",
   "execution_count": 81,
   "id": "celtic-absorption",
   "metadata": {},
   "outputs": [
    {
     "data": {
      "text/plain": [
       "dict_keys([1, (2, 3), 123])"
      ]
     },
     "execution_count": 81,
     "metadata": {},
     "output_type": "execute_result"
    }
   ],
   "source": [
    "dic.keys()"
   ]
  },
  {
   "cell_type": "code",
   "execution_count": 82,
   "id": "whole-wheat",
   "metadata": {},
   "outputs": [
    {
     "data": {
      "text/plain": [
       "dict_values(['school', 'python', 'abcd'])"
      ]
     },
     "execution_count": 82,
     "metadata": {},
     "output_type": "execute_result"
    }
   ],
   "source": [
    "dic.values()"
   ]
  },
  {
   "cell_type": "code",
   "execution_count": 83,
   "id": "abroad-victorian",
   "metadata": {},
   "outputs": [
    {
     "data": {
      "text/plain": [
       "dict_items([(1, 'school'), ((2, 3), 'python'), (123, 'abcd')])"
      ]
     },
     "execution_count": 83,
     "metadata": {},
     "output_type": "execute_result"
    }
   ],
   "source": [
    "dic.items()"
   ]
  },
  {
   "cell_type": "code",
   "execution_count": 85,
   "id": "comfortable-setup",
   "metadata": {},
   "outputs": [
    {
     "data": {
      "text/plain": [
       "'school'"
      ]
     },
     "execution_count": 85,
     "metadata": {},
     "output_type": "execute_result"
    }
   ],
   "source": [
    "dic.get(1)"
   ]
  },
  {
   "cell_type": "code",
   "execution_count": 178,
   "id": "treated-kingston",
   "metadata": {},
   "outputs": [],
   "source": [
    "dic.get(2)"
   ]
  },
  {
   "cell_type": "markdown",
   "id": "satisfactory-right",
   "metadata": {},
   "source": [
    "get 사용시 값이 없어도 에러가 뜨지않고 NONE 출력"
   ]
  },
  {
   "cell_type": "code",
   "execution_count": 93,
   "id": "abstract-amplifier",
   "metadata": {},
   "outputs": [
    {
     "data": {
      "text/plain": [
       "100"
      ]
     },
     "execution_count": 93,
     "metadata": {},
     "output_type": "execute_result"
    }
   ],
   "source": [
    "dic.get('a',100)"
   ]
  },
  {
   "cell_type": "code",
   "execution_count": 94,
   "id": "closing-causing",
   "metadata": {},
   "outputs": [
    {
     "data": {
      "text/plain": [
       "{1: 'school', (2, 3): 'python', 123: 'abcd'}"
      ]
     },
     "execution_count": 94,
     "metadata": {},
     "output_type": "execute_result"
    }
   ],
   "source": [
    "dic"
   ]
  },
  {
   "cell_type": "code",
   "execution_count": 95,
   "id": "chicken-cheese",
   "metadata": {},
   "outputs": [
    {
     "data": {
      "text/plain": [
       "True"
      ]
     },
     "execution_count": 95,
     "metadata": {},
     "output_type": "execute_result"
    }
   ],
   "source": [
    "1 in dic"
   ]
  },
  {
   "cell_type": "code",
   "execution_count": 96,
   "id": "acute-parliament",
   "metadata": {},
   "outputs": [
    {
     "data": {
      "text/plain": [
       "False"
      ]
     },
     "execution_count": 96,
     "metadata": {},
     "output_type": "execute_result"
    }
   ],
   "source": [
    "'school' in dic"
   ]
  },
  {
   "cell_type": "markdown",
   "id": "convinced-easter",
   "metadata": {},
   "source": [
    "dictionary에서 in 은 key 값만 나타낸다 "
   ]
  },
  {
   "cell_type": "code",
   "execution_count": 97,
   "id": "wooden-algorithm",
   "metadata": {},
   "outputs": [
    {
     "data": {
      "text/plain": [
       "True"
      ]
     },
     "execution_count": 97,
     "metadata": {},
     "output_type": "execute_result"
    }
   ],
   "source": [
    "bool(1)"
   ]
  },
  {
   "cell_type": "code",
   "execution_count": 98,
   "id": "athletic-jewel",
   "metadata": {},
   "outputs": [
    {
     "data": {
      "text/plain": [
       "True"
      ]
     },
     "execution_count": 98,
     "metadata": {},
     "output_type": "execute_result"
    }
   ],
   "source": [
    "bool('abc')"
   ]
  },
  {
   "cell_type": "code",
   "execution_count": 108,
   "id": "impressed-membrane",
   "metadata": {},
   "outputs": [
    {
     "name": "stdout",
     "output_type": "stream",
     "text": [
      "False\n",
      "False\n"
     ]
    }
   ],
   "source": [
    "bool()"
   ]
  },
  {
   "cell_type": "code",
   "execution_count": 100,
   "id": "superb-simpson",
   "metadata": {},
   "outputs": [
    {
     "data": {
      "text/plain": [
       "False"
      ]
     },
     "execution_count": 100,
     "metadata": {},
     "output_type": "execute_result"
    }
   ],
   "source": [
    "bool(0)"
   ]
  },
  {
   "cell_type": "code",
   "execution_count": 102,
   "id": "iraqi-importance",
   "metadata": {},
   "outputs": [
    {
     "data": {
      "text/plain": [
       "True"
      ]
     },
     "execution_count": 102,
     "metadata": {},
     "output_type": "execute_result"
    }
   ],
   "source": [
    "bool('0')"
   ]
  },
  {
   "cell_type": "code",
   "execution_count": 103,
   "id": "alternative-europe",
   "metadata": {},
   "outputs": [
    {
     "data": {
      "text/plain": [
       "True"
      ]
     },
     "execution_count": 103,
     "metadata": {},
     "output_type": "execute_result"
    }
   ],
   "source": [
    "bool(' ')"
   ]
  },
  {
   "cell_type": "code",
   "execution_count": 109,
   "id": "encouraging-superintendent",
   "metadata": {},
   "outputs": [
    {
     "data": {
      "text/plain": [
       "False"
      ]
     },
     "execution_count": 109,
     "metadata": {},
     "output_type": "execute_result"
    }
   ],
   "source": [
    "bool('')"
   ]
  },
  {
   "cell_type": "markdown",
   "id": "electric-snowboard",
   "metadata": {},
   "source": [
    "bool은 참 거짓을 나타낸다"
   ]
  },
  {
   "cell_type": "code",
   "execution_count": 117,
   "id": "portuguese-synthetic",
   "metadata": {},
   "outputs": [],
   "source": [
    "a = 1\n",
    "b = 1\n",
    "c = a+1"
   ]
  },
  {
   "cell_type": "code",
   "execution_count": 118,
   "id": "comic-beatles",
   "metadata": {},
   "outputs": [
    {
     "data": {
      "text/plain": [
       "140703231059744"
      ]
     },
     "execution_count": 118,
     "metadata": {},
     "output_type": "execute_result"
    }
   ],
   "source": [
    "id(a)"
   ]
  },
  {
   "cell_type": "code",
   "execution_count": 119,
   "id": "specialized-andrews",
   "metadata": {},
   "outputs": [
    {
     "data": {
      "text/plain": [
       "140703231059744"
      ]
     },
     "execution_count": 119,
     "metadata": {},
     "output_type": "execute_result"
    }
   ],
   "source": [
    "id(b)"
   ]
  },
  {
   "cell_type": "code",
   "execution_count": 120,
   "id": "military-cancer",
   "metadata": {},
   "outputs": [
    {
     "data": {
      "text/plain": [
       "2411396193408"
      ]
     },
     "execution_count": 120,
     "metadata": {},
     "output_type": "execute_result"
    }
   ],
   "source": [
    "id(c)"
   ]
  },
  {
   "cell_type": "code",
   "execution_count": 127,
   "id": "loose-villa",
   "metadata": {},
   "outputs": [
    {
     "name": "stdout",
     "output_type": "stream",
     "text": [
      "ab\n",
      "a b\n"
     ]
    }
   ],
   "source": [
    "print('a''b')\n",
    "print('a','b')"
   ]
  },
  {
   "cell_type": "code",
   "execution_count": 136,
   "id": "guilty-equipment",
   "metadata": {},
   "outputs": [
    {
     "name": "stdout",
     "output_type": "stream",
     "text": [
      "a b c da b c d\n"
     ]
    }
   ],
   "source": [
    "print('a','b','c','d', end='')\n",
    "print('a','b','c','d')"
   ]
  },
  {
   "cell_type": "code",
   "execution_count": 138,
   "id": "organized-effectiveness",
   "metadata": {},
   "outputs": [
    {
     "name": "stdout",
     "output_type": "stream",
     "text": [
      "abcd\n",
      "a b c d\n"
     ]
    }
   ],
   "source": [
    "print('a','b','c','d', sep='')\n",
    "print('a','b','c','d')"
   ]
  },
  {
   "cell_type": "code",
   "execution_count": 142,
   "id": "blessed-uncle",
   "metadata": {},
   "outputs": [
    {
     "name": "stdout",
     "output_type": "stream",
     "text": [
      "실수 3.14 정수20\n",
      "실수 20 정수3.14\n",
      "실수 20 정수20\n"
     ]
    }
   ],
   "source": [
    "print('실수 {} 정수{}' .format(3.14,20))\n",
    "print('실수 {1} 정수{0}' .format(3.14,20))\n",
    "print('실수 {1} 정수{1}' .format(3.14,20))"
   ]
  },
  {
   "cell_type": "code",
   "execution_count": 143,
   "id": "suburban-lancaster",
   "metadata": {},
   "outputs": [
    {
     "name": "stdout",
     "output_type": "stream",
     "text": [
      "Hello, World!\n"
     ]
    }
   ],
   "source": [
    "#This is a comment\n",
    "print(\"Hello, World!\")"
   ]
  },
  {
   "cell_type": "code",
   "execution_count": 144,
   "id": "complimentary-roommate",
   "metadata": {},
   "outputs": [
    {
     "name": "stdout",
     "output_type": "stream",
     "text": [
      "Hello, World\n"
     ]
    }
   ],
   "source": [
    "'''This is a\n",
    "multiline\n",
    "docstring. '''\n",
    "print(\"Hello, World\")"
   ]
  },
  {
   "cell_type": "markdown",
   "id": "annual-mercy",
   "metadata": {},
   "source": [
    "# 제어문"
   ]
  },
  {
   "cell_type": "code",
   "execution_count": 170,
   "id": "beginning-management",
   "metadata": {},
   "outputs": [
    {
     "name": "stdout",
     "output_type": "stream",
     "text": [
      "찾는 물건은:paper\n",
      "Yes\n"
     ]
    }
   ],
   "source": [
    "obj = input('찾는 물건은:')\n",
    "a = ['paper', 'coin', 'phone']\n",
    "\n",
    "if obj in a:\n",
    "    print(\"Yes\")\n",
    "else:\n",
    "    print(\"No\")"
   ]
  },
  {
   "cell_type": "code",
   "execution_count": 171,
   "id": "exposed-pontiac",
   "metadata": {},
   "outputs": [
    {
     "data": {
      "text/plain": [
       "True"
      ]
     },
     "execution_count": 171,
     "metadata": {},
     "output_type": "execute_result"
    }
   ],
   "source": [
    "'paper' in a"
   ]
  },
  {
   "cell_type": "code",
   "execution_count": 172,
   "id": "specified-property",
   "metadata": {},
   "outputs": [
    {
     "data": {
      "text/plain": [
       "False"
      ]
     },
     "execution_count": 172,
     "metadata": {},
     "output_type": "execute_result"
    }
   ],
   "source": [
    "'paper' not in a"
   ]
  },
  {
   "cell_type": "code",
   "execution_count": 177,
   "id": "purple-amplifier",
   "metadata": {},
   "outputs": [
    {
     "name": "stdout",
     "output_type": "stream",
     "text": [
      "돈:10000\n"
     ]
    }
   ],
   "source": [
    "a = input(\"돈:\")"
   ]
  },
  {
   "cell_type": "markdown",
   "id": "disabled-bibliography",
   "metadata": {},
   "source": [
    "조건문에서 아무 일도 하지 않게 설정하고 싶으면 pass를 사용\n",
    "pass가 수행되면 아무 결과값도 보여주지 않는다."
   ]
  },
  {
   "cell_type": "code",
   "execution_count": 188,
   "id": "scheduled-frame",
   "metadata": {},
   "outputs": [
    {
     "name": "stdout",
     "output_type": "stream",
     "text": [
      "90\n"
     ]
    }
   ],
   "source": [
    "score = input()\n",
    "score = int(score)"
   ]
  },
  {
   "cell_type": "code",
   "execution_count": 192,
   "id": "broken-bacteria",
   "metadata": {},
   "outputs": [
    {
     "name": "stdout",
     "output_type": "stream",
     "text": [
      "A\n"
     ]
    }
   ],
   "source": [
    "if score >= 90:\n",
    "    print (\"A\")\n",
    "elif score>= 80:\n",
    "    print('B')\n",
    "elif score>= 70:\n",
    "    print('C')\n",
    "else:\n",
    "    print('F')"
   ]
  },
  {
   "cell_type": "code",
   "execution_count": 203,
   "id": "caroline-chest",
   "metadata": {},
   "outputs": [
    {
     "name": "stdout",
     "output_type": "stream",
     "text": [
      "166833\n"
     ]
    }
   ],
   "source": [
    "num = 1\n",
    "next = 0\n",
    "while num <1001:\n",
    "    if num %3 ==0:\n",
    "        next += num\n",
    "    num += 1\n",
    "print(next)\n",
    "    "
   ]
  },
  {
   "cell_type": "code",
   "execution_count": 210,
   "id": "republican-signature",
   "metadata": {},
   "outputs": [
    {
     "name": "stdout",
     "output_type": "stream",
     "text": [
      "1\n",
      "3\n",
      "5\n",
      "7\n",
      "9\n"
     ]
    }
   ],
   "source": [
    "for i in range(1,10,2):\n",
    "    print(i)"
   ]
  },
  {
   "cell_type": "code",
   "execution_count": 213,
   "id": "empty-portfolio",
   "metadata": {},
   "outputs": [
    {
     "name": "stdout",
     "output_type": "stream",
     "text": [
      "a\n",
      "b\n",
      "c\n",
      "d\n",
      "e\n"
     ]
    }
   ],
   "source": [
    "alpha = ['a','b','c','d','e']\n",
    "\n",
    "for i in alpha:\n",
    "    print(i)"
   ]
  },
  {
   "cell_type": "markdown",
   "id": "distant-minnesota",
   "metadata": {},
   "source": [
    "## 리스트 내포"
   ]
  },
  {
   "cell_type": "code",
   "execution_count": 215,
   "id": "standing-dependence",
   "metadata": {},
   "outputs": [
    {
     "name": "stdout",
     "output_type": "stream",
     "text": [
      "[3, 6, 9, 12]\n"
     ]
    }
   ],
   "source": [
    "a = [1,2,3,4]\n",
    "result = []\n",
    "for num in a:\n",
    "    result.append(num*3)\n",
    "\n",
    "print(result)"
   ]
  },
  {
   "cell_type": "code",
   "execution_count": 216,
   "id": "spatial-tuition",
   "metadata": {},
   "outputs": [
    {
     "name": "stdout",
     "output_type": "stream",
     "text": [
      "[3, 6, 9, 12]\n"
     ]
    }
   ],
   "source": [
    "result= [num *3 for num in a]\n",
    "print(result)"
   ]
  },
  {
   "cell_type": "code",
   "execution_count": 219,
   "id": "quality-federation",
   "metadata": {},
   "outputs": [
    {
     "name": "stdout",
     "output_type": "stream",
     "text": [
      "0o1o2o3o4o5o6o7o8o9o"
     ]
    }
   ],
   "source": [
    "for i in range(10):\n",
    "    print(i, end='o')"
   ]
  },
  {
   "cell_type": "code",
   "execution_count": 231,
   "id": "played-appliance",
   "metadata": {},
   "outputs": [
    {
     "name": "stdout",
     "output_type": "stream",
     "text": [
      "790\n",
      "79.0\n"
     ]
    }
   ],
   "source": [
    "sum=0\n",
    "score = [70,60,55,75,95,90,80,80,85,100]\n",
    "for i in score:\n",
    "    sum += i\n",
    "print(sum)\n",
    "print(sum/len(score))"
   ]
  },
  {
   "cell_type": "markdown",
   "id": "sapphire-mistress",
   "metadata": {},
   "source": [
    "# 함수"
   ]
  },
  {
   "cell_type": "code",
   "execution_count": 232,
   "id": "cathedral-ceramic",
   "metadata": {},
   "outputs": [
    {
     "name": "stdout",
     "output_type": "stream",
     "text": [
      "30\n"
     ]
    }
   ],
   "source": [
    "a=10\n",
    "b=20\n",
    "c=a+b\n",
    "print(c)"
   ]
  },
  {
   "cell_type": "code",
   "execution_count": 234,
   "id": "comparable-medicine",
   "metadata": {},
   "outputs": [
    {
     "name": "stdout",
     "output_type": "stream",
     "text": [
      "두 정수입력:10 20\n",
      "30\n"
     ]
    }
   ],
   "source": [
    "a,b = map(int, input('두 정수입력:').split())\n",
    "c=a+b\n",
    "print(c)"
   ]
  },
  {
   "cell_type": "code",
   "execution_count": 255,
   "id": "saving-religion",
   "metadata": {},
   "outputs": [],
   "source": [
    "def sum(a,b):\n",
    "    c=a+b\n",
    "    return c\n"
   ]
  },
  {
   "cell_type": "code",
   "execution_count": 249,
   "id": "federal-uniform",
   "metadata": {},
   "outputs": [],
   "source": [
    "def add(a,b):\n",
    "    c=a+b\n",
    "    print(c)"
   ]
  },
  {
   "cell_type": "code",
   "execution_count": 250,
   "id": "classified-contest",
   "metadata": {},
   "outputs": [
    {
     "data": {
      "text/plain": [
       "30"
      ]
     },
     "execution_count": 250,
     "metadata": {},
     "output_type": "execute_result"
    }
   ],
   "source": [
    "sum(10,20)"
   ]
  },
  {
   "cell_type": "code",
   "execution_count": 251,
   "id": "extraordinary-cambridge",
   "metadata": {},
   "outputs": [
    {
     "name": "stdout",
     "output_type": "stream",
     "text": [
      "30\n"
     ]
    }
   ],
   "source": [
    "sum(20,30)\n",
    "print(30)"
   ]
  },
  {
   "cell_type": "code",
   "execution_count": 252,
   "id": "preliminary-career",
   "metadata": {},
   "outputs": [
    {
     "name": "stdout",
     "output_type": "stream",
     "text": [
      "30\n",
      "30\n"
     ]
    }
   ],
   "source": [
    "add(10,20)\n",
    "print(30)"
   ]
  },
  {
   "cell_type": "code",
   "execution_count": 253,
   "id": "ordered-chorus",
   "metadata": {},
   "outputs": [
    {
     "name": "stdout",
     "output_type": "stream",
     "text": [
      "30\n",
      "None\n"
     ]
    }
   ],
   "source": [
    "d=add(10,20)\n",
    "print(d)"
   ]
  },
  {
   "cell_type": "raw",
   "id": "systematic-israel",
   "metadata": {},
   "source": [
    "return: 함수의 결과값을 돌려주는 명령어"
   ]
  },
  {
   "cell_type": "code",
   "execution_count": 274,
   "id": "lovely-field",
   "metadata": {},
   "outputs": [],
   "source": [
    "def add_many(*args):\n",
    "    result = 0\n",
    "    print(type(args))\n",
    "    \n",
    "    for i in args:\n",
    "        result = result + i\n",
    "    return result"
   ]
  },
  {
   "cell_type": "code",
   "execution_count": 276,
   "id": "recent-fence",
   "metadata": {},
   "outputs": [
    {
     "name": "stdout",
     "output_type": "stream",
     "text": [
      "<class 'tuple'>\n",
      "6\n"
     ]
    }
   ],
   "source": [
    "result=add_many(1,2,3)\n",
    "print(result)"
   ]
  },
  {
   "cell_type": "markdown",
   "id": "complicated-stranger",
   "metadata": {},
   "source": [
    "별 표시: 여러개를 의미"
   ]
  },
  {
   "cell_type": "code",
   "execution_count": 266,
   "id": "monetary-browser",
   "metadata": {},
   "outputs": [],
   "source": [
    "def add_many(args):\n",
    "    result = 0\n",
    "    for i in args:\n",
    "        result = result + i\n",
    "    return result"
   ]
  },
  {
   "cell_type": "code",
   "execution_count": 267,
   "id": "broadband-grass",
   "metadata": {},
   "outputs": [
    {
     "ename": "TypeError",
     "evalue": "add_many() takes 1 positional argument but 3 were given",
     "output_type": "error",
     "traceback": [
      "\u001b[1;31m---------------------------------------------------------------------------\u001b[0m",
      "\u001b[1;31mTypeError\u001b[0m                                 Traceback (most recent call last)",
      "\u001b[1;32m<ipython-input-267-19e76d39a89c>\u001b[0m in \u001b[0;36m<module>\u001b[1;34m\u001b[0m\n\u001b[1;32m----> 1\u001b[1;33m \u001b[0mresult\u001b[0m\u001b[1;33m=\u001b[0m\u001b[0madd_many\u001b[0m\u001b[1;33m(\u001b[0m\u001b[1;36m1\u001b[0m\u001b[1;33m,\u001b[0m\u001b[1;36m2\u001b[0m\u001b[1;33m,\u001b[0m\u001b[1;36m3\u001b[0m\u001b[1;33m)\u001b[0m\u001b[1;33m\u001b[0m\u001b[1;33m\u001b[0m\u001b[0m\n\u001b[0m\u001b[0;32m      2\u001b[0m \u001b[0mprint\u001b[0m\u001b[1;33m(\u001b[0m\u001b[0mresult\u001b[0m\u001b[1;33m)\u001b[0m\u001b[1;33m\u001b[0m\u001b[1;33m\u001b[0m\u001b[0m\n",
      "\u001b[1;31mTypeError\u001b[0m: add_many() takes 1 positional argument but 3 were given"
     ]
    }
   ],
   "source": [
    "result=add_many(1,2,3)\n",
    "print(result)"
   ]
  },
  {
   "cell_type": "code",
   "execution_count": 277,
   "id": "dutch-payday",
   "metadata": {},
   "outputs": [],
   "source": [
    "def sum_and_mul(a,b):\n",
    "    return a+b,a*b"
   ]
  },
  {
   "cell_type": "code",
   "execution_count": 279,
   "id": "varying-compilation",
   "metadata": {},
   "outputs": [
    {
     "data": {
      "text/plain": [
       "(7, 12)"
      ]
     },
     "execution_count": 279,
     "metadata": {},
     "output_type": "execute_result"
    }
   ],
   "source": [
    "result=sum_and_mul(3,4)\n",
    "result"
   ]
  },
  {
   "cell_type": "code",
   "execution_count": 285,
   "id": "nasty-disposal",
   "metadata": {},
   "outputs": [],
   "source": [
    "def myself(a,b,c=True):\n",
    "    print('age:', a)\n",
    "    print('name:', b)\n",
    "    if c:\n",
    "        print(\"man\")\n",
    "    else:\n",
    "        print(\"woman\")"
   ]
  },
  {
   "cell_type": "code",
   "execution_count": 288,
   "id": "removed-royal",
   "metadata": {},
   "outputs": [
    {
     "name": "stdout",
     "output_type": "stream",
     "text": [
      "age: 25\n",
      "name: hong\n",
      "man\n"
     ]
    }
   ],
   "source": [
    "myself(25,'hong')"
   ]
  },
  {
   "cell_type": "code",
   "execution_count": 287,
   "id": "least-meeting",
   "metadata": {},
   "outputs": [
    {
     "name": "stdout",
     "output_type": "stream",
     "text": [
      "age: 25\n",
      "name: hong\n",
      "woman\n"
     ]
    }
   ],
   "source": [
    "myself(25,'hong',0)"
   ]
  },
  {
   "cell_type": "markdown",
   "id": "voluntary-authorization",
   "metadata": {},
   "source": [
    "단, default 값이 무조건 맨 뒤에 있어야함"
   ]
  },
  {
   "cell_type": "code",
   "execution_count": 289,
   "id": "settled-bottom",
   "metadata": {},
   "outputs": [
    {
     "ename": "SyntaxError",
     "evalue": "non-default argument follows default argument (<ipython-input-289-36a12b9bf159>, line 1)",
     "output_type": "error",
     "traceback": [
      "\u001b[1;36m  File \u001b[1;32m\"<ipython-input-289-36a12b9bf159>\"\u001b[1;36m, line \u001b[1;32m1\u001b[0m\n\u001b[1;33m    def myself(a,c=True,b):\u001b[0m\n\u001b[1;37m               ^\u001b[0m\n\u001b[1;31mSyntaxError\u001b[0m\u001b[1;31m:\u001b[0m non-default argument follows default argument\n"
     ]
    }
   ],
   "source": [
    "def myself(a,c=True,b):\n",
    "    print('age:', a)\n",
    "    print('name:', b)\n",
    "    if c:\n",
    "        print(\"man\")\n",
    "    else:\n",
    "        print(\"woman\")"
   ]
  },
  {
   "cell_type": "code",
   "execution_count": 290,
   "id": "multiple-terrorist",
   "metadata": {},
   "outputs": [],
   "source": [
    "def myself(a,c=True,b='hong'):\n",
    "    print('age:', a)\n",
    "    print('name:', b)\n",
    "    if c:\n",
    "        print(\"man\")\n",
    "    else:\n",
    "        print(\"woman\")"
   ]
  },
  {
   "cell_type": "code",
   "execution_count": 291,
   "id": "choice-julian",
   "metadata": {},
   "outputs": [
    {
     "name": "stdout",
     "output_type": "stream",
     "text": [
      "age: 25\n",
      "name: hong\n",
      "man\n"
     ]
    }
   ],
   "source": [
    "myself(25)"
   ]
  },
  {
   "cell_type": "code",
   "execution_count": 293,
   "id": "respiratory-mileage",
   "metadata": {},
   "outputs": [
    {
     "name": "stdout",
     "output_type": "stream",
     "text": [
      "age: 25\n",
      "name: hong\n",
      "man\n"
     ]
    }
   ],
   "source": [
    "myself(25,'kim')"
   ]
  },
  {
   "cell_type": "markdown",
   "id": "outdoor-compatibility",
   "metadata": {},
   "source": [
    "무조건 default 된 값으로 출력된다."
   ]
  },
  {
   "cell_type": "code",
   "execution_count": 301,
   "id": "violent-sensitivity",
   "metadata": {},
   "outputs": [
    {
     "name": "stdout",
     "output_type": "stream",
     "text": [
      "2\n",
      "1\n"
     ]
    }
   ],
   "source": [
    "a = 1\n",
    "\n",
    "def var_test(a):\n",
    "    a+=1\n",
    "    print (a)\n",
    "    \n",
    "var_test(a)\n",
    "print(a)"
   ]
  },
  {
   "cell_type": "code",
   "execution_count": 306,
   "id": "desperate-teacher",
   "metadata": {
    "scrolled": true
   },
   "outputs": [
    {
     "name": "stdout",
     "output_type": "stream",
     "text": [
      "2\n"
     ]
    }
   ],
   "source": [
    "a = 1\n",
    "\n",
    "def var_test(a):\n",
    "    a+=1\n",
    "    return a\n",
    "\n",
    "a = var_test(a)\n",
    "print(a)"
   ]
  },
  {
   "cell_type": "code",
   "execution_count": 313,
   "id": "informed-token",
   "metadata": {},
   "outputs": [],
   "source": [
    "f=open('test.txt','a')\n",
    "f.write(\"2\")\n",
    "\n",
    "f.close()"
   ]
  },
  {
   "cell_type": "code",
   "execution_count": 330,
   "id": "coordinate-horizon",
   "metadata": {},
   "outputs": [],
   "source": [
    "f = open('test.txt','w')\n",
    "for i in range(4,11):\n",
    "    data = \"%dth line.\\n\" % i\n",
    "    f.write(data)\n",
    "f.close()"
   ]
  },
  {
   "cell_type": "code",
   "execution_count": 334,
   "id": "accompanied-attention",
   "metadata": {},
   "outputs": [
    {
     "name": "stdout",
     "output_type": "stream",
     "text": [
      "4th line.\n",
      "\n",
      "5th line.\n",
      "\n",
      "6th line.\n",
      "\n",
      "7th line.\n",
      "\n",
      "8th line.\n",
      "\n",
      "9th line.\n",
      "\n",
      "10th line.\n",
      "\n"
     ]
    }
   ],
   "source": [
    "f = open('test.txt','r')\n",
    "while True:\n",
    "    line=f.readline()\n",
    "    if not line: break\n",
    "    print(line)\n",
    "f.close()"
   ]
  },
  {
   "cell_type": "code",
   "execution_count": 339,
   "id": "derived-shuttle",
   "metadata": {},
   "outputs": [
    {
     "name": "stdout",
     "output_type": "stream",
     "text": [
      "4th line.\n",
      "\n",
      "5th line.\n",
      "\n",
      "6th line.\n",
      "\n",
      "7th line.\n",
      "\n",
      "8th line.\n",
      "\n",
      "9th line.\n",
      "\n",
      "10th line.\n",
      "\n"
     ]
    }
   ],
   "source": [
    "f = open('test.txt','r')\n",
    "lines = f. readlines()\n",
    "for line in lines:\n",
    "    print(line)\n",
    "f.close()"
   ]
  },
  {
   "cell_type": "code",
   "execution_count": 352,
   "id": "union-berry",
   "metadata": {},
   "outputs": [
    {
     "data": {
      "text/plain": [
       "['6th line.\\n', '7th line.\\n']"
      ]
     },
     "execution_count": 352,
     "metadata": {},
     "output_type": "execute_result"
    }
   ],
   "source": [
    "type(lines)\n",
    "lines[2]\n",
    "lines[2:4]"
   ]
  },
  {
   "cell_type": "code",
   "execution_count": 337,
   "id": "modern-governor",
   "metadata": {},
   "outputs": [
    {
     "name": "stdout",
     "output_type": "stream",
     "text": [
      "4th line.\n",
      "5th line.\n",
      "6th line.\n",
      "7th line.\n",
      "8th line.\n",
      "9th line.\n",
      "10th line.\n",
      "\n"
     ]
    }
   ],
   "source": [
    "f = open('test.txt','r')\n",
    "data = f.read()\n",
    "print(data)\n",
    "f.close()"
   ]
  },
  {
   "cell_type": "code",
   "execution_count": 338,
   "id": "south-miller",
   "metadata": {},
   "outputs": [
    {
     "data": {
      "text/plain": [
       "str"
      ]
     },
     "execution_count": 338,
     "metadata": {},
     "output_type": "execute_result"
    }
   ],
   "source": [
    "type(data)"
   ]
  },
  {
   "cell_type": "markdown",
   "id": "changed-breach",
   "metadata": {},
   "source": [
    "with를 써서 자동으로 열고 닫는 것을 처리\n",
    "with를 벗어나면 f가 자동으로 닫힘"
   ]
  },
  {
   "cell_type": "code",
   "execution_count": 401,
   "id": "molecular-rough",
   "metadata": {},
   "outputs": [],
   "source": [
    "score = [70,60,55,75,95,90,80,80,85,100]\n",
    "\n",
    "f = open('score.txt','w')\n",
    "for i in score:\n",
    "    i=str(i)\n",
    "    data = i + \"\\n\"\n",
    "    f.write(data)\n",
    "f.close()"
   ]
  },
  {
   "cell_type": "code",
   "execution_count": 403,
   "id": "foster-constitutional",
   "metadata": {},
   "outputs": [
    {
     "name": "stdout",
     "output_type": "stream",
     "text": [
      "790\n",
      "79.0\n"
     ]
    }
   ],
   "source": [
    "sum = 0\n",
    "j=0\n",
    "f = open('score.txt','r')\n",
    "while True:\n",
    "    line = f.readline()\n",
    "    if not line: \n",
    "        break\n",
    "    sum+=int(line)\n",
    "    j+=1\n",
    "print(sum)\n",
    "print(sum/j)"
   ]
  },
  {
   "cell_type": "markdown",
   "id": "intermediate-bible",
   "metadata": {},
   "source": [
    "# 클래스"
   ]
  },
  {
   "cell_type": "code",
   "execution_count": 430,
   "id": "heavy-tsunami",
   "metadata": {},
   "outputs": [],
   "source": [
    "class Student:\n",
    "    name = 'Hong'\n",
    "    \n",
    "    def  __init__(self):\n",
    "        print(\"init 이해하셨나요?\\n\")\n",
    "    \n",
    "    def info(self):\n",
    "        print(\"My name is \" + self.name + \" 입니다.\")"
   ]
  },
  {
   "cell_type": "code",
   "execution_count": 431,
   "id": "written-times",
   "metadata": {},
   "outputs": [
    {
     "name": "stdout",
     "output_type": "stream",
     "text": [
      "init 이해하셨나요?\n",
      "\n"
     ]
    }
   ],
   "source": [
    "a = Student()"
   ]
  },
  {
   "cell_type": "code",
   "execution_count": 432,
   "id": "weekly-ecuador",
   "metadata": {},
   "outputs": [
    {
     "name": "stdout",
     "output_type": "stream",
     "text": [
      "Hong\n"
     ]
    }
   ],
   "source": [
    "print(a.name)"
   ]
  },
  {
   "cell_type": "code",
   "execution_count": 433,
   "id": "verified-office",
   "metadata": {},
   "outputs": [
    {
     "name": "stdout",
     "output_type": "stream",
     "text": [
      "My name is Hong 입니다.\n",
      "None\n"
     ]
    }
   ],
   "source": [
    "print(a.info())"
   ]
  },
  {
   "cell_type": "code",
   "execution_count": 434,
   "id": "growing-sleeping",
   "metadata": {},
   "outputs": [
    {
     "name": "stdout",
     "output_type": "stream",
     "text": [
      "init 이해하셨나요?\n",
      "\n"
     ]
    }
   ],
   "source": [
    "b = Student()"
   ]
  },
  {
   "cell_type": "code",
   "execution_count": 436,
   "id": "collective-projection",
   "metadata": {},
   "outputs": [
    {
     "name": "stdout",
     "output_type": "stream",
     "text": [
      "Hong\n"
     ]
    }
   ],
   "source": [
    "print(b.name)"
   ]
  },
  {
   "cell_type": "code",
   "execution_count": 437,
   "id": "vocal-secretary",
   "metadata": {},
   "outputs": [],
   "source": [
    "class University(Student):\n",
    "    major = \"Computer Engineering\"\n",
    "    def intro(self):\n",
    "        print(\"My name is \" + self.name + \" and major is \" + self.major)"
   ]
  },
  {
   "cell_type": "code",
   "execution_count": 438,
   "id": "respiratory-colony",
   "metadata": {},
   "outputs": [
    {
     "name": "stdout",
     "output_type": "stream",
     "text": [
      "init 이해하셨나요?\n",
      "\n"
     ]
    },
    {
     "data": {
      "text/plain": [
       "'Hong'"
      ]
     },
     "execution_count": 438,
     "metadata": {},
     "output_type": "execute_result"
    }
   ],
   "source": [
    "inst3 = University()\n",
    "inst3.name"
   ]
  },
  {
   "cell_type": "code",
   "execution_count": 442,
   "id": "suited-lindsay",
   "metadata": {},
   "outputs": [
    {
     "name": "stdout",
     "output_type": "stream",
     "text": [
      "My name is Hong and major is Computer Engineering\n"
     ]
    }
   ],
   "source": [
    "inst3.intro()"
   ]
  },
  {
   "cell_type": "code",
   "execution_count": 1,
   "id": "generous-thomson",
   "metadata": {},
   "outputs": [
    {
     "ename": "NameError",
     "evalue": "name 'inst3' is not defined",
     "output_type": "error",
     "traceback": [
      "\u001b[1;31m---------------------------------------------------------------------------\u001b[0m",
      "\u001b[1;31mNameError\u001b[0m                                 Traceback (most recent call last)",
      "\u001b[1;32m<ipython-input-1-5f432f84bbab>\u001b[0m in \u001b[0;36m<module>\u001b[1;34m\u001b[0m\n\u001b[1;32m----> 1\u001b[1;33m \u001b[0minst3\u001b[0m\u001b[1;33m.\u001b[0m\u001b[0minfo\u001b[0m\u001b[1;33m(\u001b[0m\u001b[1;33m)\u001b[0m\u001b[1;33m\u001b[0m\u001b[1;33m\u001b[0m\u001b[0m\n\u001b[0m",
      "\u001b[1;31mNameError\u001b[0m: name 'inst3' is not defined"
     ]
    }
   ],
   "source": [
    "inst3.info()"
   ]
  },
  {
   "cell_type": "code",
   "execution_count": 15,
   "id": "broken-lambda",
   "metadata": {},
   "outputs": [
    {
     "name": "stdout",
     "output_type": "stream",
     "text": [
      "같다\n"
     ]
    }
   ],
   "source": [
    "a= 257\n",
    "b= 257\n",
    "if a==b:\n",
    "    print(\"같다\")"
   ]
  },
  {
   "cell_type": "code",
   "execution_count": 8,
   "id": "legal-poetry",
   "metadata": {},
   "outputs": [
    {
     "data": {
      "text/plain": [
       "range(2, 100, 2)"
      ]
     },
     "execution_count": 8,
     "metadata": {},
     "output_type": "execute_result"
    }
   ],
   "source": []
  },
  {
   "cell_type": "code",
   "execution_count": null,
   "id": "restricted-ethernet",
   "metadata": {},
   "outputs": [],
   "source": []
  }
 ],
 "metadata": {
  "kernelspec": {
   "display_name": "Python 3",
   "language": "python",
   "name": "python3"
  },
  "language_info": {
   "codemirror_mode": {
    "name": "ipython",
    "version": 3
   },
   "file_extension": ".py",
   "mimetype": "text/x-python",
   "name": "python",
   "nbconvert_exporter": "python",
   "pygments_lexer": "ipython3",
   "version": "3.8.5"
  }
 },
 "nbformat": 4,
 "nbformat_minor": 5
}
